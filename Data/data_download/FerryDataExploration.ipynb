{
 "cells": [
  {
   "cell_type": "markdown",
   "metadata": {},
   "source": [
    "# Ferry data exploration\n",
    "\n",
    "In this notebook I will test the ferry data download and QC functions and plot the data to see how it is looking\n",
    "\n",
    "All the data is stored in an xarray dataset"
   ]
  },
  {
   "cell_type": "code",
   "execution_count": 1,
   "metadata": {
    "collapsed": true
   },
   "outputs": [],
   "source": [
    "import numpy as np\n",
    "import xarray as xr\n",
    "import pandas as pd\n",
    "import matplotlib.pyplot as plt"
   ]
  },
  {
   "cell_type": "code",
   "execution_count": 2,
   "metadata": {
    "collapsed": false
   },
   "outputs": [],
   "source": [
    "from ferry_data_utils import ferry_data_QC\n",
    "from ferry_data_utils import ferry_data_download"
   ]
  },
  {
   "cell_type": "markdown",
   "metadata": {},
   "source": [
    "Try Salish ferry first"
   ]
  },
  {
   "cell_type": "code",
   "execution_count": 3,
   "metadata": {
    "collapsed": true
   },
   "outputs": [],
   "source": [
    "URL1='http://107.170.217.21:8080/thredds/dodsC/Salish_L1_STA/Salish_L1_STA.ncml'"
   ]
  },
  {
   "cell_type": "code",
   "execution_count": 4,
   "metadata": {
    "collapsed": false
   },
   "outputs": [],
   "source": [
    "ferry=ferry_data_download(URL1)"
   ]
  },
  {
   "cell_type": "markdown",
   "metadata": {},
   "source": [
    "## The following takes a long time, be patient"
   ]
  },
  {
   "cell_type": "code",
   "execution_count": 5,
   "metadata": {
    "collapsed": false
   },
   "outputs": [
    {
     "name": "stderr",
     "output_type": "stream",
     "text": [
      "/Users/Maru/miniconda3/lib/python3.5/site-packages/xarray/core/variable.py:1046: RuntimeWarning: invalid value encountered in less\n",
      "  if not reflexive\n"
     ]
    }
   ],
   "source": [
    "ferryQC=ferry_data_QC(ferry,6.5,4,4)"
   ]
  },
  {
   "cell_type": "code",
   "execution_count": 6,
   "metadata": {
    "collapsed": false
   },
   "outputs": [
    {
     "data": {
      "text/plain": [
       "<xarray.Dataset>\n",
       "Dimensions:                             (depth: 56, time: 993110)\n",
       "Coordinates:\n",
       "  * depth                               (depth) float32 12.05 14.05 16.05 ...\n",
       "  * time                                (time) datetime64[ns] 2014-05-14T21:04:17 ...\n",
       "Data variables:\n",
       "    latitude                            (time) float64 ...\n",
       "    longitude                           (time) float64 ...\n",
       "    ensemble_number                     (time) float64 ...\n",
       "    speed_made_good                     (time) float64 ...\n",
       "    direction_made_good                 (time) float64 ...\n",
       "    heading                             (time) float64 ...\n",
       "    pitch                               (time) float64 ...\n",
       "    roll                                (time) float64 ...\n",
       "    pstide_prediction_mllw              (time) float64 ...\n",
       "    psdem_bathymetry_navd88             (time) float64 ...\n",
       "    vdatum_offset_mllw_to_navd88        (time) float64 ...\n",
       "    bottom_tracking_depth_beam_1        (time) float64 ...\n",
       "    bottom_tracking_depth_beam_2        (time) float64 ...\n",
       "    bottom_tracking_depth_beam_3        (time) float64 ...\n",
       "    bottom_tracking_depth_beam_4        (time) float64 ...\n",
       "    temperature_adcp                    (time) float64 ...\n",
       "    eastward_absolute_water_velocity    (time, depth) float64 nan nan nan ...\n",
       "    northward_absolute_water_velocity   (time, depth) float64 nan nan nan ...\n",
       "    vertical_absolute_water_velocity    (time, depth) float64 ...\n",
       "    error_absolute_water_velocity       (time, depth) float64 ...\n",
       "    eastward_navigation_velocity        (time, depth) float64 ...\n",
       "    northward_navigation_velocity       (time, depth) float64 ...\n",
       "    eastward_bottom_tracking_velocity   (time, depth) float64 ...\n",
       "    northward_bottom_tracking_velocity  (time, depth) float64 ...\n",
       "    vertical_bottom_tracking_velocity   (time, depth) float64 ...\n",
       "    error_bottom_tracking_velocity      (time, depth) float64 ...\n",
       "    echo_amplitude_beam_1               (time, depth) float64 ...\n",
       "    echo_amplitude_beam_2               (time, depth) float64 ...\n",
       "    echo_amplitude_beam_3               (time, depth) float64 ...\n",
       "    echo_amplitude_beam_4               (time, depth) float64 ...\n",
       "    correlation_beam_1                  (time, depth) float64 ...\n",
       "    correlation_beam_2                  (time, depth) float64 ...\n",
       "    correlation_beam_3                  (time, depth) float64 ...\n",
       "    correlation_beam_4                  (time, depth) float64 ...\n",
       "    percent_good_field_1                (time, depth) float64 ...\n",
       "    percent_good_field_2                (time, depth) float64 ...\n",
       "    percent_good_field_3                (time, depth) float64 ...\n",
       "    percent_good_field_4                (time, depth) float64 ...\n",
       "    u_true                              (time, depth) float64 nan nan nan ...\n",
       "    v_true                              (time, depth) float64 nan nan nan ...\n",
       "    w_true                              (time, depth) float64 nan nan nan ...\n",
       "    Horizontal_speed                    (time, depth) float64 nan nan nan ...\n",
       "Attributes:\n",
       "    created: Brandon Sackmann (bsackmann@integral-corp.com)\n",
       "    company: Integral Consulting Inc.\n",
       "    Conventions: CF-1.6\n",
       "    cell_size: 2.0\n",
       "    cell_number: 60\n",
       "    blanking_distance: 2.0\n",
       "    bin_1_distance: 4.05\n",
       "    number_beams: 4\n",
       "    pulse: 1.99\n",
       "    number_pings: 5\n",
       "    total_ensemble_number: 4794\n",
       "    valid_ensemble_number: 1967\n",
       "    pstide_segment: 439\n",
       "    pstide_output_frequency: 6"
      ]
     },
     "execution_count": 6,
     "metadata": {},
     "output_type": "execute_result"
    }
   ],
   "source": [
    "ferryQC"
   ]
  },
  {
   "cell_type": "code",
   "execution_count": 7,
   "metadata": {
    "collapsed": false
   },
   "outputs": [
    {
     "data": {
      "text/plain": [
       "<xarray.DataArray 'Horizontal_speed' ()>\n",
       "array(3.9999882163792186)"
      ]
     },
     "execution_count": 7,
     "metadata": {},
     "output_type": "execute_result"
    }
   ],
   "source": [
    "ferryQC.Horizontal_speed.max()"
   ]
  },
  {
   "cell_type": "code",
   "execution_count": 39,
   "metadata": {
    "collapsed": false
   },
   "outputs": [
    {
     "data": {
      "text/plain": [
       "<xarray.DataArray 'time' (time: 993110)>\n",
       "array(['2014-05-14T21:04:17.000000000', '2014-05-14T21:04:31.500000000',\n",
       "       '2014-05-14T21:04:46.000000000', ...,\n",
       "       '2016-11-21T05:36:04.500000000', '2016-11-21T05:36:21.000000000',\n",
       "       '2016-11-21T05:36:36.000000000'], dtype='datetime64[ns]')\n",
       "Coordinates:\n",
       "  * time     (time) datetime64[ns] 2014-05-14T21:04:17 ...\n",
       "Attributes:\n",
       "    long_name: Time (UTC) as Seconds Since 2014-01-01 00:00:00\n",
       "    standard_name: time\n",
       "    time_zone: UTC"
      ]
     },
     "execution_count": 39,
     "metadata": {},
     "output_type": "execute_result"
    }
   ],
   "source": [
    "ferryQC.time"
   ]
  },
  {
   "cell_type": "markdown",
   "metadata": {},
   "source": [
    "### Pick a time in which you want to see the ferry data\n",
    "This will slice the entire data set to the selected time"
   ]
  },
  {
   "cell_type": "code",
   "execution_count": 49,
   "metadata": {
    "collapsed": false
   },
   "outputs": [],
   "source": [
    "data_A2016=ferryQC.sel(time=slice('2016-11-01T18:00:00', '2016-11-01T20:00:00'))"
   ]
  },
  {
   "cell_type": "code",
   "execution_count": 50,
   "metadata": {
    "collapsed": false
   },
   "outputs": [
    {
     "data": {
      "text/plain": [
       "<xarray.DataArray 'Horizontal_speed' (time: 284, depth: 56)>\n",
       "array([[ nan,  nan,  nan, ...,  nan,  nan,  nan],\n",
       "       [ nan,  nan,  nan, ...,  nan,  nan,  nan],\n",
       "       [ nan,  nan,  nan, ...,  nan,  nan,  nan],\n",
       "       ..., \n",
       "       [ nan,  nan,  nan, ...,  nan,  nan,  nan],\n",
       "       [ nan,  nan,  nan, ...,  nan,  nan,  nan],\n",
       "       [ nan,  nan,  nan, ...,  nan,  nan,  nan]])\n",
       "Coordinates:\n",
       "  * depth    (depth) float32 12.05 14.05 16.05 18.05 20.05 22.05 24.05 26.05 ...\n",
       "  * time     (time) datetime64[ns] 2016-11-01T18:03:33 2016-11-01T18:03:48 ..."
      ]
     },
     "execution_count": 50,
     "metadata": {},
     "output_type": "execute_result"
    }
   ],
   "source": [
    "data_A2016.Horizontal_speed"
   ]
  },
  {
   "cell_type": "markdown",
   "metadata": {},
   "source": [
    "### Plot the horizontal speed:"
   ]
  },
  {
   "cell_type": "code",
   "execution_count": 51,
   "metadata": {
    "collapsed": false
   },
   "outputs": [
    {
     "data": {
      "image/png": "[encoded data removed]",
      "text/plain": [
       "<matplotlib.figure.Figure at 0x1192f3828>"
      ]
     },
     "metadata": {},
     "output_type": "display_data"
    }
   ],
   "source": [
    "%matplotlib inline\n",
    "plt.figure(figsize=(14,4))\n",
    "data_A2016.Horizontal_speed.plot(x='time', y='depth')\n",
    "plt.gca().invert_yaxis()"
   ]
  },
  {
   "cell_type": "markdown",
   "metadata": {},
   "source": [
    "### We can select a depth and a latitude and longitude area and then plot time series"
   ]
  },
  {
   "cell_type": "code",
   "execution_count": null,
   "metadata": {
    "collapsed": true
   },
   "outputs": [],
   "source": []
  }
 ],
 "metadata": {
  "anaconda-cloud": {},
  "kernelspec": {
   "display_name": "Python [default]",
   "language": "python",
   "name": "python3"
  },
  "language_info": {
   "codemirror_mode": {
    "name": "ipython",
    "version": 3
   },
   "file_extension": ".py",
   "mimetype": "text/x-python",
   "name": "python",
   "nbconvert_exporter": "python",
   "pygments_lexer": "ipython3",
   "version": "3.5.2"
  }
 },
 "nbformat": 4,
 "nbformat_minor": 1
}
