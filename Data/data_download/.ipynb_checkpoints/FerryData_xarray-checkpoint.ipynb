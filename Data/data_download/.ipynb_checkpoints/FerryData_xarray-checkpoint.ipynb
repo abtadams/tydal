{
 "cells": [
  {
   "cell_type": "markdown",
   "metadata": {},
   "source": [
    "## In this notebook I am trying to use xarray to handle the ferry data instead of single numpy arrays"
   ]
  },
  {
   "cell_type": "code",
   "execution_count": 26,
   "metadata": {
    "collapsed": true
   },
   "outputs": [],
   "source": [
    "import numpy as np\n",
    "import xarray as xr\n",
    "import pandas as pd\n",
    "import netCDF4 as ncdf\n",
    "import matplotlib.pyplot as plt\n",
    "%matplotlib inline"
   ]
  },
  {
   "cell_type": "code",
   "execution_count": 12,
   "metadata": {
    "collapsed": true
   },
   "outputs": [],
   "source": [
    "URL1='http://107.170.217.21:8080/thredds/dodsC/Salish_L1_STA/Salish_L1_STA.ncml'"
   ]
  },
  {
   "cell_type": "code",
   "execution_count": 19,
   "metadata": {
    "collapsed": false
   },
   "outputs": [
    {
     "name": "stdout",
     "output_type": "stream",
     "text": [
      "<xarray.Dataset>\n",
      "Dimensions:                             (depth: 60, time: 993110)\n",
      "Coordinates:\n",
      "  * depth                               (depth) float32 4.05 6.05 8.05 10.05 ...\n",
      "  * time                                (time) datetime64[ns] 2014-05-14T21:04:17 ...\n",
      "Data variables:\n",
      "    latitude                            (time) float64 ...\n",
      "    longitude                           (time) float64 ...\n",
      "    ensemble_number                     (time) float64 ...\n",
      "    speed_made_good                     (time) float64 ...\n",
      "    direction_made_good                 (time) float64 ...\n",
      "    heading                             (time) float64 ...\n",
      "    pitch                               (time) float64 ...\n",
      "    roll                                (time) float64 ...\n",
      "    pstide_prediction_mllw              (time) float64 ...\n",
      "    psdem_bathymetry_navd88             (time) float64 ...\n",
      "    vdatum_offset_mllw_to_navd88        (time) float64 ...\n",
      "    bottom_tracking_depth_beam_1        (time) float64 ...\n",
      "    bottom_tracking_depth_beam_2        (time) float64 ...\n",
      "    bottom_tracking_depth_beam_3        (time) float64 ...\n",
      "    bottom_tracking_depth_beam_4        (time) float64 ...\n",
      "    temperature_adcp                    (time) float64 ...\n",
      "    eastward_absolute_water_velocity    (time, depth) float64 ...\n",
      "    northward_absolute_water_velocity   (time, depth) float64 ...\n",
      "    vertical_absolute_water_velocity    (time, depth) float64 ...\n",
      "    error_absolute_water_velocity       (time, depth) float64 ...\n",
      "    eastward_navigation_velocity        (time, depth) float64 ...\n",
      "    northward_navigation_velocity       (time, depth) float64 ...\n",
      "    eastward_bottom_tracking_velocity   (time, depth) float64 ...\n",
      "    northward_bottom_tracking_velocity  (time, depth) float64 ...\n",
      "    vertical_bottom_tracking_velocity   (time, depth) float64 ...\n",
      "    error_bottom_tracking_velocity      (time, depth) float64 ...\n",
      "    echo_amplitude_beam_1               (time, depth) float64 ...\n",
      "    echo_amplitude_beam_2               (time, depth) float64 ...\n",
      "    echo_amplitude_beam_3               (time, depth) float64 ...\n",
      "    echo_amplitude_beam_4               (time, depth) float64 ...\n",
      "    correlation_beam_1                  (time, depth) float64 ...\n",
      "    correlation_beam_2                  (time, depth) float64 ...\n",
      "    correlation_beam_3                  (time, depth) float64 ...\n",
      "    correlation_beam_4                  (time, depth) float64 ...\n",
      "    percent_good_field_1                (time, depth) float64 ...\n",
      "    percent_good_field_2                (time, depth) float64 ...\n",
      "    percent_good_field_3                (time, depth) float64 ...\n",
      "    percent_good_field_4                (time, depth) float64 ...\n",
      "Attributes:\n",
      "    created: Brandon Sackmann (bsackmann@integral-corp.com)\n",
      "    company: Integral Consulting Inc.\n",
      "    Conventions: CF-1.6\n",
      "    cell_size: 2.0\n",
      "    cell_number: 60\n",
      "    blanking_distance: 2.0\n",
      "    bin_1_distance: 4.05\n",
      "    number_beams: 4\n",
      "    pulse: 1.99\n",
      "    number_pings: 5\n",
      "    total_ensemble_number: 4794\n",
      "    valid_ensemble_number: 1967\n",
      "    pstide_segment: 439\n",
      "    pstide_output_frequency: 6\n"
     ]
    }
   ],
   "source": [
    "ferry = xr.open_dataset(URL1)\n",
    "print(ferry)"
   ]
  },
  {
   "cell_type": "markdown",
   "metadata": {},
   "source": [
    "Plot data"
   ]
  },
  {
   "cell_type": "code",
   "execution_count": 27,
   "metadata": {
    "collapsed": false
   },
   "outputs": [
    {
     "data": {
      "text/plain": [
       "[<matplotlib.lines.Line2D at 0x11aa15b00>]"
      ]
     },
     "execution_count": 27,
     "metadata": {},
     "output_type": "execute_result"
    },
    {
     "data": {
      "image/png": "[encoded data removed]",
      "text/plain": [
       "<matplotlib.figure.Figure at 0x117293ac8>"
      ]
     },
     "metadata": {},
     "output_type": "display_data"
    }
   ],
   "source": [
    "fig, (ax1, ax2) = plt.subplots(ncols=2, figsize=(14,4))\n",
    "ferry.bottom_tracking_depth_beam_1.plot(ax=ax1)\n",
    "ferry.bottom_tracking_depth_beam_2.plot(ax=ax2)"
   ]
  },
  {
   "cell_type": "code",
   "execution_count": 28,
   "metadata": {
    "collapsed": false
   },
   "outputs": [
    {
     "data": {
      "text/plain": [
       "KeysView(<xarray.Dataset>\n",
       "Dimensions:                             (depth: 60, time: 993110)\n",
       "Coordinates:\n",
       "  * depth                               (depth) float32 4.05 6.05 8.05 10.05 ...\n",
       "  * time                                (time) datetime64[ns] 2014-05-14T21:04:17 ...\n",
       "Data variables:\n",
       "    latitude                            (time) float64 ...\n",
       "    longitude                           (time) float64 ...\n",
       "    ensemble_number                     (time) float64 ...\n",
       "    speed_made_good                     (time) float64 ...\n",
       "    direction_made_good                 (time) float64 ...\n",
       "    heading                             (time) float64 ...\n",
       "    pitch                               (time) float64 ...\n",
       "    roll                                (time) float64 ...\n",
       "    pstide_prediction_mllw              (time) float64 ...\n",
       "    psdem_bathymetry_navd88             (time) float64 ...\n",
       "    vdatum_offset_mllw_to_navd88        (time) float64 ...\n",
       "    bottom_tracking_depth_beam_1        (time) float64 ...\n",
       "    bottom_tracking_depth_beam_2        (time) float64 ...\n",
       "    bottom_tracking_depth_beam_3        (time) float64 ...\n",
       "    bottom_tracking_depth_beam_4        (time) float64 ...\n",
       "    temperature_adcp                    (time) float64 ...\n",
       "    eastward_absolute_water_velocity    (time, depth) float64 ...\n",
       "    northward_absolute_water_velocity   (time, depth) float64 ...\n",
       "    vertical_absolute_water_velocity    (time, depth) float64 ...\n",
       "    error_absolute_water_velocity       (time, depth) float64 ...\n",
       "    eastward_navigation_velocity        (time, depth) float64 ...\n",
       "    northward_navigation_velocity       (time, depth) float64 ...\n",
       "    eastward_bottom_tracking_velocity   (time, depth) float64 ...\n",
       "    northward_bottom_tracking_velocity  (time, depth) float64 ...\n",
       "    vertical_bottom_tracking_velocity   (time, depth) float64 ...\n",
       "    error_bottom_tracking_velocity      (time, depth) float64 ...\n",
       "    echo_amplitude_beam_1               (time, depth) float64 ...\n",
       "    echo_amplitude_beam_2               (time, depth) float64 ...\n",
       "    echo_amplitude_beam_3               (time, depth) float64 ...\n",
       "    echo_amplitude_beam_4               (time, depth) float64 ...\n",
       "    correlation_beam_1                  (time, depth) float64 ...\n",
       "    correlation_beam_2                  (time, depth) float64 ...\n",
       "    correlation_beam_3                  (time, depth) float64 ...\n",
       "    correlation_beam_4                  (time, depth) float64 ...\n",
       "    percent_good_field_1                (time, depth) float64 ...\n",
       "    percent_good_field_2                (time, depth) float64 ...\n",
       "    percent_good_field_3                (time, depth) float64 ...\n",
       "    percent_good_field_4                (time, depth) float64 ...\n",
       "Attributes:\n",
       "    created: Brandon Sackmann (bsackmann@integral-corp.com)\n",
       "    company: Integral Consulting Inc.\n",
       "    Conventions: CF-1.6\n",
       "    cell_size: 2.0\n",
       "    cell_number: 60\n",
       "    blanking_distance: 2.0\n",
       "    bin_1_distance: 4.05\n",
       "    number_beams: 4\n",
       "    pulse: 1.99\n",
       "    number_pings: 5\n",
       "    total_ensemble_number: 4794\n",
       "    valid_ensemble_number: 1967\n",
       "    pstide_segment: 439\n",
       "    pstide_output_frequency: 6)"
      ]
     },
     "execution_count": 28,
     "metadata": {},
     "output_type": "execute_result"
    }
   ],
   "source": [
    "ferry.keys()"
   ]
  },
  {
   "cell_type": "code",
   "execution_count": 29,
   "metadata": {
    "collapsed": false
   },
   "outputs": [
    {
     "data": {
      "text/plain": [
       "<xarray.DataArray 'latitude' (time: 993110)>\n",
       "[993110 values with dtype=float64]\n",
       "Coordinates:\n",
       "  * time     (time) datetime64[ns] 2014-05-14T21:04:17 ...\n",
       "Attributes:\n",
       "    long_name: Latitude\n",
       "    standard_name: latitude\n",
       "    units: degrees_north"
      ]
     },
     "execution_count": 29,
     "metadata": {},
     "output_type": "execute_result"
    }
   ],
   "source": [
    "ferry['latitude']"
   ]
  },
  {
   "cell_type": "code",
   "execution_count": 30,
   "metadata": {
    "collapsed": false
   },
   "outputs": [
    {
     "data": {
      "text/plain": [
       "Data variables:\n",
       "    latitude                            (time) float64 ...\n",
       "    longitude                           (time) float64 ...\n",
       "    ensemble_number                     (time) float64 ...\n",
       "    speed_made_good                     (time) float64 ...\n",
       "    direction_made_good                 (time) float64 ...\n",
       "    heading                             (time) float64 ...\n",
       "    pitch                               (time) float64 ...\n",
       "    roll                                (time) float64 ...\n",
       "    pstide_prediction_mllw              (time) float64 ...\n",
       "    psdem_bathymetry_navd88             (time) float64 ...\n",
       "    vdatum_offset_mllw_to_navd88        (time) float64 ...\n",
       "    bottom_tracking_depth_beam_1        (time) float64 ...\n",
       "    bottom_tracking_depth_beam_2        (time) float64 ...\n",
       "    bottom_tracking_depth_beam_3        (time) float64 ...\n",
       "    bottom_tracking_depth_beam_4        (time) float64 ...\n",
       "    temperature_adcp                    (time) float64 ...\n",
       "    eastward_absolute_water_velocity    (time, depth) float64 ...\n",
       "    northward_absolute_water_velocity   (time, depth) float64 ...\n",
       "    vertical_absolute_water_velocity    (time, depth) float64 ...\n",
       "    error_absolute_water_velocity       (time, depth) float64 ...\n",
       "    eastward_navigation_velocity        (time, depth) float64 ...\n",
       "    northward_navigation_velocity       (time, depth) float64 ...\n",
       "    eastward_bottom_tracking_velocity   (time, depth) float64 ...\n",
       "    northward_bottom_tracking_velocity  (time, depth) float64 ...\n",
       "    vertical_bottom_tracking_velocity   (time, depth) float64 ...\n",
       "    error_bottom_tracking_velocity      (time, depth) float64 ...\n",
       "    echo_amplitude_beam_1               (time, depth) float64 ...\n",
       "    echo_amplitude_beam_2               (time, depth) float64 ...\n",
       "    echo_amplitude_beam_3               (time, depth) float64 ...\n",
       "    echo_amplitude_beam_4               (time, depth) float64 ...\n",
       "    correlation_beam_1                  (time, depth) float64 ...\n",
       "    correlation_beam_2                  (time, depth) float64 ...\n",
       "    correlation_beam_3                  (time, depth) float64 ...\n",
       "    correlation_beam_4                  (time, depth) float64 ...\n",
       "    percent_good_field_1                (time, depth) float64 ...\n",
       "    percent_good_field_2                (time, depth) float64 ...\n",
       "    percent_good_field_3                (time, depth) float64 ...\n",
       "    percent_good_field_4                (time, depth) float64 ..."
      ]
     },
     "execution_count": 30,
     "metadata": {},
     "output_type": "execute_result"
    }
   ],
   "source": [
    "ferry.data_vars"
   ]
  },
  {
   "cell_type": "code",
   "execution_count": 31,
   "metadata": {
    "collapsed": false
   },
   "outputs": [
    {
     "data": {
      "text/plain": [
       "DatetimeIndex([       '2014-05-14 21:04:17', '2014-05-14 21:04:31.500000',\n",
       "                      '2014-05-14 21:04:46',        '2014-05-14 21:05:01',\n",
       "               '2014-05-14 21:05:17.500000',        '2014-05-14 21:05:32',\n",
       "               '2014-05-14 21:05:46.500000',        '2014-05-14 21:06:01',\n",
       "                      '2014-05-14 21:06:16', '2014-05-14 21:06:32.500000',\n",
       "               ...\n",
       "               '2016-11-21 05:34:20.500000', '2016-11-21 05:34:36.500000',\n",
       "                      '2016-11-21 05:34:51',        '2016-11-21 05:35:06',\n",
       "                      '2016-11-21 05:35:21', '2016-11-21 05:35:35.500000',\n",
       "                      '2016-11-21 05:35:50', '2016-11-21 05:36:04.500000',\n",
       "                      '2016-11-21 05:36:21',        '2016-11-21 05:36:36'],\n",
       "              dtype='datetime64[ns]', name='time', length=993110, freq=None)"
      ]
     },
     "execution_count": 31,
     "metadata": {},
     "output_type": "execute_result"
    }
   ],
   "source": [
    "ferry['time'].to_index()"
   ]
  },
  {
   "cell_type": "code",
   "execution_count": 32,
   "metadata": {
    "collapsed": true
   },
   "outputs": [],
   "source": [
    "u=ferry.eastward_bottom_tracking_velocity+ferry.eastward_absolute_water_velocity"
   ]
  },
  {
   "cell_type": "code",
   "execution_count": 33,
   "metadata": {
    "collapsed": false
   },
   "outputs": [
    {
     "name": "stdout",
     "output_type": "stream",
     "text": [
      "<xarray.DataArray (time: 993110, depth: 60)>\n",
      "array([[ 0.44799995,  0.17000008, -0.00399995, ...,         nan,\n",
      "                nan,         nan],\n",
      "       [ 0.96000004,  0.49500012, -0.05499983, ...,         nan,\n",
      "                nan,         nan],\n",
      "       [ 3.41600001,  2.37299991,  1.76099992, ...,         nan,\n",
      "                nan,         nan],\n",
      "       ..., \n",
      "       [-1.25699997, -1.27400005, -1.06400001, ...,         nan,\n",
      "                nan,         nan],\n",
      "       [-1.30999994, -1.14600003, -0.61899996, ...,         nan,\n",
      "                nan,         nan],\n",
      "       [-0.95899999, -1.22400004, -1.01900005, ...,         nan,\n",
      "                nan,         nan]])\n",
      "Coordinates:\n",
      "  * depth    (depth) float32 4.05 6.05 8.05 10.05 12.05 14.05 16.05 18.05 ...\n",
      "  * time     (time) datetime64[ns] 2014-05-14T21:04:17 ...\n"
     ]
    }
   ],
   "source": [
    "print(u)"
   ]
  },
  {
   "cell_type": "code",
   "execution_count": 35,
   "metadata": {
    "collapsed": false
   },
   "outputs": [
    {
     "ename": "KeyboardInterrupt",
     "evalue": "",
     "output_type": "error",
     "traceback": [
      "\u001b[0;31m---------------------------------------------------------------------------\u001b[0m",
      "\u001b[0;31mKeyboardInterrupt\u001b[0m                         Traceback (most recent call last)",
      "\u001b[0;32m<ipython-input-35-ff8dbef28ec2>\u001b[0m in \u001b[0;36m<module>\u001b[0;34m()\u001b[0m\n\u001b[1;32m      4\u001b[0m \u001b[0;34m\u001b[0m\u001b[0m\n\u001b[1;32m      5\u001b[0m \u001b[0;31m# Plot...\u001b[0m\u001b[0;34m\u001b[0m\u001b[0;34m\u001b[0m\u001b[0m\n\u001b[0;32m----> 6\u001b[0;31m \u001b[0mplt\u001b[0m\u001b[0;34m.\u001b[0m\u001b[0mscatter\u001b[0m\u001b[0;34m(\u001b[0m\u001b[0mx\u001b[0m\u001b[0;34m,\u001b[0m \u001b[0my\u001b[0m\u001b[0;34m,\u001b[0m \u001b[0mc\u001b[0m\u001b[0;34m=\u001b[0m\u001b[0mz\u001b[0m\u001b[0;34m)\u001b[0m\u001b[0;34m\u001b[0m\u001b[0m\n\u001b[0m\u001b[1;32m      7\u001b[0m \u001b[0mplt\u001b[0m\u001b[0;34m.\u001b[0m\u001b[0mgray\u001b[0m\u001b[0;34m(\u001b[0m\u001b[0;34m)\u001b[0m\u001b[0;34m\u001b[0m\u001b[0m\n",
      "\u001b[0;32m/Users/Maru/miniconda3/lib/python3.5/site-packages/matplotlib/pyplot.py\u001b[0m in \u001b[0;36mscatter\u001b[0;34m(x, y, s, c, marker, cmap, norm, vmin, vmax, alpha, linewidths, verts, edgecolors, hold, data, **kwargs)\u001b[0m\n\u001b[1;32m   3256\u001b[0m                          \u001b[0mvmin\u001b[0m\u001b[0;34m=\u001b[0m\u001b[0mvmin\u001b[0m\u001b[0;34m,\u001b[0m \u001b[0mvmax\u001b[0m\u001b[0;34m=\u001b[0m\u001b[0mvmax\u001b[0m\u001b[0;34m,\u001b[0m \u001b[0malpha\u001b[0m\u001b[0;34m=\u001b[0m\u001b[0malpha\u001b[0m\u001b[0;34m,\u001b[0m\u001b[0;34m\u001b[0m\u001b[0m\n\u001b[1;32m   3257\u001b[0m                          \u001b[0mlinewidths\u001b[0m\u001b[0;34m=\u001b[0m\u001b[0mlinewidths\u001b[0m\u001b[0;34m,\u001b[0m \u001b[0mverts\u001b[0m\u001b[0;34m=\u001b[0m\u001b[0mverts\u001b[0m\u001b[0;34m,\u001b[0m\u001b[0;34m\u001b[0m\u001b[0m\n\u001b[0;32m-> 3258\u001b[0;31m                          edgecolors=edgecolors, data=data, **kwargs)\n\u001b[0m\u001b[1;32m   3259\u001b[0m     \u001b[0;32mfinally\u001b[0m\u001b[0;34m:\u001b[0m\u001b[0;34m\u001b[0m\u001b[0m\n\u001b[1;32m   3260\u001b[0m         \u001b[0max\u001b[0m\u001b[0;34m.\u001b[0m\u001b[0mhold\u001b[0m\u001b[0;34m(\u001b[0m\u001b[0mwashold\u001b[0m\u001b[0;34m)\u001b[0m\u001b[0;34m\u001b[0m\u001b[0m\n",
      "\u001b[0;32m/Users/Maru/miniconda3/lib/python3.5/site-packages/matplotlib/__init__.py\u001b[0m in \u001b[0;36minner\u001b[0;34m(ax, *args, **kwargs)\u001b[0m\n\u001b[1;32m   1817\u001b[0m                     warnings.warn(msg % (label_namer, func.__name__),\n\u001b[1;32m   1818\u001b[0m                                   RuntimeWarning, stacklevel=2)\n\u001b[0;32m-> 1819\u001b[0;31m             \u001b[0;32mreturn\u001b[0m \u001b[0mfunc\u001b[0m\u001b[0;34m(\u001b[0m\u001b[0max\u001b[0m\u001b[0;34m,\u001b[0m \u001b[0;34m*\u001b[0m\u001b[0margs\u001b[0m\u001b[0;34m,\u001b[0m \u001b[0;34m**\u001b[0m\u001b[0mkwargs\u001b[0m\u001b[0;34m)\u001b[0m\u001b[0;34m\u001b[0m\u001b[0m\n\u001b[0m\u001b[1;32m   1820\u001b[0m         \u001b[0mpre_doc\u001b[0m \u001b[0;34m=\u001b[0m \u001b[0minner\u001b[0m\u001b[0;34m.\u001b[0m\u001b[0m__doc__\u001b[0m\u001b[0;34m\u001b[0m\u001b[0m\n\u001b[1;32m   1821\u001b[0m         \u001b[0;32mif\u001b[0m \u001b[0mpre_doc\u001b[0m \u001b[0;32mis\u001b[0m \u001b[0;32mNone\u001b[0m\u001b[0;34m:\u001b[0m\u001b[0;34m\u001b[0m\u001b[0m\n",
      "\u001b[0;32m/Users/Maru/miniconda3/lib/python3.5/site-packages/matplotlib/axes/_axes.py\u001b[0m in \u001b[0;36mscatter\u001b[0;34m(self, x, y, s, c, marker, cmap, norm, vmin, vmax, alpha, linewidths, verts, edgecolors, **kwargs)\u001b[0m\n\u001b[1;32m   3799\u001b[0m             \u001b[0mc_none\u001b[0m \u001b[0;34m=\u001b[0m \u001b[0;32mFalse\u001b[0m\u001b[0;34m\u001b[0m\u001b[0m\n\u001b[1;32m   3800\u001b[0m \u001b[0;34m\u001b[0m\u001b[0m\n\u001b[0;32m-> 3801\u001b[0;31m         \u001b[0mself\u001b[0m\u001b[0;34m.\u001b[0m\u001b[0m_process_unit_info\u001b[0m\u001b[0;34m(\u001b[0m\u001b[0mxdata\u001b[0m\u001b[0;34m=\u001b[0m\u001b[0mx\u001b[0m\u001b[0;34m,\u001b[0m \u001b[0mydata\u001b[0m\u001b[0;34m=\u001b[0m\u001b[0my\u001b[0m\u001b[0;34m,\u001b[0m \u001b[0mkwargs\u001b[0m\u001b[0;34m=\u001b[0m\u001b[0mkwargs\u001b[0m\u001b[0;34m)\u001b[0m\u001b[0;34m\u001b[0m\u001b[0m\n\u001b[0m\u001b[1;32m   3802\u001b[0m         \u001b[0mx\u001b[0m \u001b[0;34m=\u001b[0m \u001b[0mself\u001b[0m\u001b[0;34m.\u001b[0m\u001b[0mconvert_xunits\u001b[0m\u001b[0;34m(\u001b[0m\u001b[0mx\u001b[0m\u001b[0;34m)\u001b[0m\u001b[0;34m\u001b[0m\u001b[0m\n\u001b[1;32m   3803\u001b[0m         \u001b[0my\u001b[0m \u001b[0;34m=\u001b[0m \u001b[0mself\u001b[0m\u001b[0;34m.\u001b[0m\u001b[0mconvert_yunits\u001b[0m\u001b[0;34m(\u001b[0m\u001b[0my\u001b[0m\u001b[0;34m)\u001b[0m\u001b[0;34m\u001b[0m\u001b[0m\n",
      "\u001b[0;32m/Users/Maru/miniconda3/lib/python3.5/site-packages/matplotlib/axes/_base.py\u001b[0m in \u001b[0;36m_process_unit_info\u001b[0;34m(self, xdata, ydata, kwargs)\u001b[0m\n\u001b[1;32m   1903\u001b[0m             \u001b[0;31m# we only need to update if there is nothing set yet.\u001b[0m\u001b[0;34m\u001b[0m\u001b[0;34m\u001b[0m\u001b[0m\n\u001b[1;32m   1904\u001b[0m             \u001b[0;32mif\u001b[0m \u001b[0;32mnot\u001b[0m \u001b[0mself\u001b[0m\u001b[0;34m.\u001b[0m\u001b[0mxaxis\u001b[0m\u001b[0;34m.\u001b[0m\u001b[0mhave_units\u001b[0m\u001b[0;34m(\u001b[0m\u001b[0;34m)\u001b[0m\u001b[0;34m:\u001b[0m\u001b[0;34m\u001b[0m\u001b[0m\n\u001b[0;32m-> 1905\u001b[0;31m                 \u001b[0mself\u001b[0m\u001b[0;34m.\u001b[0m\u001b[0mxaxis\u001b[0m\u001b[0;34m.\u001b[0m\u001b[0mupdate_units\u001b[0m\u001b[0;34m(\u001b[0m\u001b[0mxdata\u001b[0m\u001b[0;34m)\u001b[0m\u001b[0;34m\u001b[0m\u001b[0m\n\u001b[0m\u001b[1;32m   1906\u001b[0m \u001b[0;34m\u001b[0m\u001b[0m\n\u001b[1;32m   1907\u001b[0m         \u001b[0;32mif\u001b[0m \u001b[0mydata\u001b[0m \u001b[0;32mis\u001b[0m \u001b[0;32mnot\u001b[0m \u001b[0;32mNone\u001b[0m\u001b[0;34m:\u001b[0m\u001b[0;34m\u001b[0m\u001b[0m\n",
      "\u001b[0;32m/Users/Maru/miniconda3/lib/python3.5/site-packages/matplotlib/axis.py\u001b[0m in \u001b[0;36mupdate_units\u001b[0;34m(self, data)\u001b[0m\n\u001b[1;32m   1383\u001b[0m         \"\"\"\n\u001b[1;32m   1384\u001b[0m \u001b[0;34m\u001b[0m\u001b[0m\n\u001b[0;32m-> 1385\u001b[0;31m         \u001b[0mconverter\u001b[0m \u001b[0;34m=\u001b[0m \u001b[0mmunits\u001b[0m\u001b[0;34m.\u001b[0m\u001b[0mregistry\u001b[0m\u001b[0;34m.\u001b[0m\u001b[0mget_converter\u001b[0m\u001b[0;34m(\u001b[0m\u001b[0mdata\u001b[0m\u001b[0;34m)\u001b[0m\u001b[0;34m\u001b[0m\u001b[0m\n\u001b[0m\u001b[1;32m   1386\u001b[0m         \u001b[0;32mif\u001b[0m \u001b[0mconverter\u001b[0m \u001b[0;32mis\u001b[0m \u001b[0;32mNone\u001b[0m\u001b[0;34m:\u001b[0m\u001b[0;34m\u001b[0m\u001b[0m\n\u001b[1;32m   1387\u001b[0m             \u001b[0;32mreturn\u001b[0m \u001b[0;32mFalse\u001b[0m\u001b[0;34m\u001b[0m\u001b[0m\n",
      "\u001b[0;32m/Users/Maru/miniconda3/lib/python3.5/site-packages/matplotlib/units.py\u001b[0m in \u001b[0;36mget_converter\u001b[0;34m(self, x)\u001b[0m\n\u001b[1;32m    160\u001b[0m \u001b[0;34m\u001b[0m\u001b[0m\n\u001b[1;32m    161\u001b[0m         \u001b[0;32mif\u001b[0m \u001b[0mconverter\u001b[0m \u001b[0;32mis\u001b[0m \u001b[0;32mNone\u001b[0m \u001b[0;32mand\u001b[0m \u001b[0miterable\u001b[0m\u001b[0;34m(\u001b[0m\u001b[0mx\u001b[0m\u001b[0;34m)\u001b[0m\u001b[0;34m:\u001b[0m\u001b[0;34m\u001b[0m\u001b[0m\n\u001b[0;32m--> 162\u001b[0;31m             \u001b[0;32mfor\u001b[0m \u001b[0mthisx\u001b[0m \u001b[0;32min\u001b[0m \u001b[0mx\u001b[0m\u001b[0;34m:\u001b[0m\u001b[0;34m\u001b[0m\u001b[0m\n\u001b[0m\u001b[1;32m    163\u001b[0m                 \u001b[0;31m# Make sure that recursing might actually lead to a solution,\u001b[0m\u001b[0;34m\u001b[0m\u001b[0;34m\u001b[0m\u001b[0m\n\u001b[1;32m    164\u001b[0m                 \u001b[0;31m# if we are just going to re-examine another item of the same\u001b[0m\u001b[0;34m\u001b[0m\u001b[0;34m\u001b[0m\u001b[0m\n",
      "\u001b[0;32m/Users/Maru/miniconda3/lib/python3.5/site-packages/xarray/core/common.py\u001b[0m in \u001b[0;36m_iter\u001b[0;34m(self)\u001b[0m\n\u001b[1;32m    137\u001b[0m     \u001b[0;32mdef\u001b[0m \u001b[0m_iter\u001b[0m\u001b[0;34m(\u001b[0m\u001b[0mself\u001b[0m\u001b[0;34m)\u001b[0m\u001b[0;34m:\u001b[0m\u001b[0;34m\u001b[0m\u001b[0m\n\u001b[1;32m    138\u001b[0m         \u001b[0;32mfor\u001b[0m \u001b[0mn\u001b[0m \u001b[0;32min\u001b[0m \u001b[0mrange\u001b[0m\u001b[0;34m(\u001b[0m\u001b[0mlen\u001b[0m\u001b[0;34m(\u001b[0m\u001b[0mself\u001b[0m\u001b[0;34m)\u001b[0m\u001b[0;34m)\u001b[0m\u001b[0;34m:\u001b[0m\u001b[0;34m\u001b[0m\u001b[0m\n\u001b[0;32m--> 139\u001b[0;31m             \u001b[0;32myield\u001b[0m \u001b[0mself\u001b[0m\u001b[0;34m[\u001b[0m\u001b[0mn\u001b[0m\u001b[0;34m]\u001b[0m\u001b[0;34m\u001b[0m\u001b[0m\n\u001b[0m\u001b[1;32m    140\u001b[0m \u001b[0;34m\u001b[0m\u001b[0m\n\u001b[1;32m    141\u001b[0m     \u001b[0;32mdef\u001b[0m \u001b[0m__iter__\u001b[0m\u001b[0;34m(\u001b[0m\u001b[0mself\u001b[0m\u001b[0;34m)\u001b[0m\u001b[0;34m:\u001b[0m\u001b[0;34m\u001b[0m\u001b[0m\n",
      "\u001b[0;32m/Users/Maru/miniconda3/lib/python3.5/site-packages/xarray/core/dataarray.py\u001b[0m in \u001b[0;36m__getitem__\u001b[0;34m(self, key)\u001b[0m\n\u001b[1;32m    427\u001b[0m         \u001b[0;32melse\u001b[0m\u001b[0;34m:\u001b[0m\u001b[0;34m\u001b[0m\u001b[0m\n\u001b[1;32m    428\u001b[0m             \u001b[0;31m# orthogonal array indexing\u001b[0m\u001b[0;34m\u001b[0m\u001b[0;34m\u001b[0m\u001b[0m\n\u001b[0;32m--> 429\u001b[0;31m             \u001b[0;32mreturn\u001b[0m \u001b[0mself\u001b[0m\u001b[0;34m.\u001b[0m\u001b[0misel\u001b[0m\u001b[0;34m(\u001b[0m\u001b[0;34m**\u001b[0m\u001b[0mself\u001b[0m\u001b[0;34m.\u001b[0m\u001b[0m_item_key_to_dict\u001b[0m\u001b[0;34m(\u001b[0m\u001b[0mkey\u001b[0m\u001b[0;34m)\u001b[0m\u001b[0;34m)\u001b[0m\u001b[0;34m\u001b[0m\u001b[0m\n\u001b[0m\u001b[1;32m    430\u001b[0m \u001b[0;34m\u001b[0m\u001b[0m\n\u001b[1;32m    431\u001b[0m     \u001b[0;32mdef\u001b[0m \u001b[0m__setitem__\u001b[0m\u001b[0;34m(\u001b[0m\u001b[0mself\u001b[0m\u001b[0;34m,\u001b[0m \u001b[0mkey\u001b[0m\u001b[0;34m,\u001b[0m \u001b[0mvalue\u001b[0m\u001b[0;34m)\u001b[0m\u001b[0;34m:\u001b[0m\u001b[0;34m\u001b[0m\u001b[0m\n",
      "\u001b[0;32m/Users/Maru/miniconda3/lib/python3.5/site-packages/xarray/core/dataarray.py\u001b[0m in \u001b[0;36misel\u001b[0;34m(self, **indexers)\u001b[0m\n\u001b[1;32m    608\u001b[0m         \u001b[0mDataArray\u001b[0m\u001b[0;34m.\u001b[0m\u001b[0msel\u001b[0m\u001b[0;34m\u001b[0m\u001b[0m\n\u001b[1;32m    609\u001b[0m         \"\"\"\n\u001b[0;32m--> 610\u001b[0;31m         \u001b[0mds\u001b[0m \u001b[0;34m=\u001b[0m \u001b[0mself\u001b[0m\u001b[0;34m.\u001b[0m\u001b[0m_to_temp_dataset\u001b[0m\u001b[0;34m(\u001b[0m\u001b[0;34m)\u001b[0m\u001b[0;34m.\u001b[0m\u001b[0misel\u001b[0m\u001b[0;34m(\u001b[0m\u001b[0;34m**\u001b[0m\u001b[0mindexers\u001b[0m\u001b[0;34m)\u001b[0m\u001b[0;34m\u001b[0m\u001b[0m\n\u001b[0m\u001b[1;32m    611\u001b[0m         \u001b[0;32mreturn\u001b[0m \u001b[0mself\u001b[0m\u001b[0;34m.\u001b[0m\u001b[0m_from_temp_dataset\u001b[0m\u001b[0;34m(\u001b[0m\u001b[0mds\u001b[0m\u001b[0;34m)\u001b[0m\u001b[0;34m\u001b[0m\u001b[0m\n\u001b[1;32m    612\u001b[0m \u001b[0;34m\u001b[0m\u001b[0m\n",
      "\u001b[0;32m/Users/Maru/miniconda3/lib/python3.5/site-packages/xarray/core/dataset.py\u001b[0m in \u001b[0;36misel\u001b[0;34m(self, **indexers)\u001b[0m\n\u001b[1;32m    910\u001b[0m         \u001b[0;32mfor\u001b[0m \u001b[0mname\u001b[0m\u001b[0;34m,\u001b[0m \u001b[0mvar\u001b[0m \u001b[0;32min\u001b[0m \u001b[0miteritems\u001b[0m\u001b[0;34m(\u001b[0m\u001b[0mself\u001b[0m\u001b[0;34m.\u001b[0m\u001b[0m_variables\u001b[0m\u001b[0;34m)\u001b[0m\u001b[0;34m:\u001b[0m\u001b[0;34m\u001b[0m\u001b[0m\n\u001b[1;32m    911\u001b[0m             \u001b[0mvar_indexers\u001b[0m \u001b[0;34m=\u001b[0m \u001b[0mdict\u001b[0m\u001b[0;34m(\u001b[0m\u001b[0;34m(\u001b[0m\u001b[0mk\u001b[0m\u001b[0;34m,\u001b[0m \u001b[0mv\u001b[0m\u001b[0;34m)\u001b[0m \u001b[0;32mfor\u001b[0m \u001b[0mk\u001b[0m\u001b[0;34m,\u001b[0m \u001b[0mv\u001b[0m \u001b[0;32min\u001b[0m \u001b[0mindexers\u001b[0m \u001b[0;32mif\u001b[0m \u001b[0mk\u001b[0m \u001b[0;32min\u001b[0m \u001b[0mvar\u001b[0m\u001b[0;34m.\u001b[0m\u001b[0mdims\u001b[0m\u001b[0;34m)\u001b[0m\u001b[0;34m\u001b[0m\u001b[0m\n\u001b[0;32m--> 912\u001b[0;31m             \u001b[0mvariables\u001b[0m\u001b[0;34m[\u001b[0m\u001b[0mname\u001b[0m\u001b[0;34m]\u001b[0m \u001b[0;34m=\u001b[0m \u001b[0mvar\u001b[0m\u001b[0;34m.\u001b[0m\u001b[0misel\u001b[0m\u001b[0;34m(\u001b[0m\u001b[0;34m**\u001b[0m\u001b[0mvar_indexers\u001b[0m\u001b[0;34m)\u001b[0m\u001b[0;34m\u001b[0m\u001b[0m\n\u001b[0m\u001b[1;32m    913\u001b[0m         \u001b[0;32mreturn\u001b[0m \u001b[0mself\u001b[0m\u001b[0;34m.\u001b[0m\u001b[0m_replace_vars_and_dims\u001b[0m\u001b[0;34m(\u001b[0m\u001b[0mvariables\u001b[0m\u001b[0;34m)\u001b[0m\u001b[0;34m\u001b[0m\u001b[0m\n\u001b[1;32m    914\u001b[0m \u001b[0;34m\u001b[0m\u001b[0m\n",
      "\u001b[0;32m/Users/Maru/miniconda3/lib/python3.5/site-packages/xarray/core/variable.py\u001b[0m in \u001b[0;36misel\u001b[0;34m(self, **indexers)\u001b[0m\n\u001b[1;32m    539\u001b[0m             \u001b[0;32mif\u001b[0m \u001b[0mdim\u001b[0m \u001b[0;32min\u001b[0m \u001b[0mindexers\u001b[0m\u001b[0;34m:\u001b[0m\u001b[0;34m\u001b[0m\u001b[0m\n\u001b[1;32m    540\u001b[0m                 \u001b[0mkey\u001b[0m\u001b[0;34m[\u001b[0m\u001b[0mi\u001b[0m\u001b[0;34m]\u001b[0m \u001b[0;34m=\u001b[0m \u001b[0mindexers\u001b[0m\u001b[0;34m[\u001b[0m\u001b[0mdim\u001b[0m\u001b[0;34m]\u001b[0m\u001b[0;34m\u001b[0m\u001b[0m\n\u001b[0;32m--> 541\u001b[0;31m         \u001b[0;32mreturn\u001b[0m \u001b[0mself\u001b[0m\u001b[0;34m[\u001b[0m\u001b[0mtuple\u001b[0m\u001b[0;34m(\u001b[0m\u001b[0mkey\u001b[0m\u001b[0;34m)\u001b[0m\u001b[0;34m]\u001b[0m\u001b[0;34m\u001b[0m\u001b[0m\n\u001b[0m\u001b[1;32m    542\u001b[0m \u001b[0;34m\u001b[0m\u001b[0m\n\u001b[1;32m    543\u001b[0m     \u001b[0;32mdef\u001b[0m \u001b[0m_shift_one_dim\u001b[0m\u001b[0;34m(\u001b[0m\u001b[0mself\u001b[0m\u001b[0;34m,\u001b[0m \u001b[0mdim\u001b[0m\u001b[0;34m,\u001b[0m \u001b[0mcount\u001b[0m\u001b[0;34m)\u001b[0m\u001b[0;34m:\u001b[0m\u001b[0;34m\u001b[0m\u001b[0m\n",
      "\u001b[0;32m/Users/Maru/miniconda3/lib/python3.5/site-packages/xarray/core/variable.py\u001b[0m in \u001b[0;36m__getitem__\u001b[0;34m(self, key)\u001b[0m\n\u001b[1;32m    374\u001b[0m         dims = tuple(dim for k, dim in zip(key, self.dims)\n\u001b[1;32m    375\u001b[0m                      if not isinstance(k, (int, np.integer)))\n\u001b[0;32m--> 376\u001b[0;31m         \u001b[0mvalues\u001b[0m \u001b[0;34m=\u001b[0m \u001b[0mself\u001b[0m\u001b[0;34m.\u001b[0m\u001b[0m_indexable_data\u001b[0m\u001b[0;34m[\u001b[0m\u001b[0mkey\u001b[0m\u001b[0;34m]\u001b[0m\u001b[0;34m\u001b[0m\u001b[0m\n\u001b[0m\u001b[1;32m    377\u001b[0m         \u001b[0;31m# orthogonal indexing should ensure the dimensionality is consistent\u001b[0m\u001b[0;34m\u001b[0m\u001b[0;34m\u001b[0m\u001b[0m\n\u001b[1;32m    378\u001b[0m         \u001b[0;32mif\u001b[0m \u001b[0mhasattr\u001b[0m\u001b[0;34m(\u001b[0m\u001b[0mvalues\u001b[0m\u001b[0;34m,\u001b[0m \u001b[0;34m'ndim'\u001b[0m\u001b[0;34m)\u001b[0m\u001b[0;34m:\u001b[0m\u001b[0;34m\u001b[0m\u001b[0m\n",
      "\u001b[0;32m/Users/Maru/miniconda3/lib/python3.5/site-packages/xarray/core/indexing.py\u001b[0m in \u001b[0;36m__getitem__\u001b[0;34m(self, key)\u001b[0m\n\u001b[1;32m    356\u001b[0m \u001b[0;34m\u001b[0m\u001b[0m\n\u001b[1;32m    357\u001b[0m     \u001b[0;32mdef\u001b[0m \u001b[0m__getitem__\u001b[0m\u001b[0;34m(\u001b[0m\u001b[0mself\u001b[0m\u001b[0;34m,\u001b[0m \u001b[0mkey\u001b[0m\u001b[0;34m)\u001b[0m\u001b[0;34m:\u001b[0m\u001b[0;34m\u001b[0m\u001b[0m\n\u001b[0;32m--> 358\u001b[0;31m         \u001b[0;32mreturn\u001b[0m \u001b[0mtype\u001b[0m\u001b[0;34m(\u001b[0m\u001b[0mself\u001b[0m\u001b[0;34m)\u001b[0m\u001b[0;34m(\u001b[0m\u001b[0mself\u001b[0m\u001b[0;34m.\u001b[0m\u001b[0marray\u001b[0m\u001b[0;34m,\u001b[0m \u001b[0mself\u001b[0m\u001b[0;34m.\u001b[0m\u001b[0m_updated_key\u001b[0m\u001b[0;34m(\u001b[0m\u001b[0mkey\u001b[0m\u001b[0;34m)\u001b[0m\u001b[0;34m)\u001b[0m\u001b[0;34m\u001b[0m\u001b[0m\n\u001b[0m\u001b[1;32m    359\u001b[0m \u001b[0;34m\u001b[0m\u001b[0m\n\u001b[1;32m    360\u001b[0m     \u001b[0;32mdef\u001b[0m \u001b[0m__setitem__\u001b[0m\u001b[0;34m(\u001b[0m\u001b[0mself\u001b[0m\u001b[0;34m,\u001b[0m \u001b[0mkey\u001b[0m\u001b[0;34m,\u001b[0m \u001b[0mvalue\u001b[0m\u001b[0;34m)\u001b[0m\u001b[0;34m:\u001b[0m\u001b[0;34m\u001b[0m\u001b[0m\n",
      "\u001b[0;32m/Users/Maru/miniconda3/lib/python3.5/site-packages/xarray/core/indexing.py\u001b[0m in \u001b[0;36m_updated_key\u001b[0;34m(self, new_key)\u001b[0m\n\u001b[1;32m    338\u001b[0m                 \u001b[0mkey\u001b[0m\u001b[0;34m.\u001b[0m\u001b[0mappend\u001b[0m\u001b[0;34m(\u001b[0m\u001b[0mk\u001b[0m\u001b[0;34m)\u001b[0m\u001b[0;34m\u001b[0m\u001b[0m\n\u001b[1;32m    339\u001b[0m             \u001b[0;32melse\u001b[0m\u001b[0;34m:\u001b[0m\u001b[0;34m\u001b[0m\u001b[0m\n\u001b[0;32m--> 340\u001b[0;31m                 \u001b[0mkey\u001b[0m\u001b[0;34m.\u001b[0m\u001b[0mappend\u001b[0m\u001b[0;34m(\u001b[0m\u001b[0m_index_indexer_1d\u001b[0m\u001b[0;34m(\u001b[0m\u001b[0mk\u001b[0m\u001b[0;34m,\u001b[0m \u001b[0mnext\u001b[0m\u001b[0;34m(\u001b[0m\u001b[0mnew_key\u001b[0m\u001b[0;34m)\u001b[0m\u001b[0;34m,\u001b[0m \u001b[0msize\u001b[0m\u001b[0;34m)\u001b[0m\u001b[0;34m)\u001b[0m\u001b[0;34m\u001b[0m\u001b[0m\n\u001b[0m\u001b[1;32m    341\u001b[0m         \u001b[0;32mreturn\u001b[0m \u001b[0mtuple\u001b[0m\u001b[0;34m(\u001b[0m\u001b[0mkey\u001b[0m\u001b[0;34m)\u001b[0m\u001b[0;34m\u001b[0m\u001b[0m\n\u001b[1;32m    342\u001b[0m \u001b[0;34m\u001b[0m\u001b[0m\n",
      "\u001b[0;32m/Users/Maru/miniconda3/lib/python3.5/site-packages/xarray/core/indexing.py\u001b[0m in \u001b[0;36m_index_indexer_1d\u001b[0;34m(old_indexer, applied_indexer, size)\u001b[0m\n\u001b[1;32m    266\u001b[0m             \u001b[0mindexer\u001b[0m \u001b[0;34m=\u001b[0m \u001b[0mslice_slice\u001b[0m\u001b[0;34m(\u001b[0m\u001b[0mold_indexer\u001b[0m\u001b[0;34m,\u001b[0m \u001b[0mapplied_indexer\u001b[0m\u001b[0;34m,\u001b[0m \u001b[0msize\u001b[0m\u001b[0;34m)\u001b[0m\u001b[0;34m\u001b[0m\u001b[0m\n\u001b[1;32m    267\u001b[0m         \u001b[0;32melse\u001b[0m\u001b[0;34m:\u001b[0m\u001b[0;34m\u001b[0m\u001b[0m\n\u001b[0;32m--> 268\u001b[0;31m             \u001b[0mindexer\u001b[0m \u001b[0;34m=\u001b[0m \u001b[0m_expand_slice\u001b[0m\u001b[0;34m(\u001b[0m\u001b[0mold_indexer\u001b[0m\u001b[0;34m,\u001b[0m \u001b[0msize\u001b[0m\u001b[0;34m)\u001b[0m\u001b[0;34m[\u001b[0m\u001b[0mapplied_indexer\u001b[0m\u001b[0;34m]\u001b[0m\u001b[0;34m\u001b[0m\u001b[0m\n\u001b[0m\u001b[1;32m    269\u001b[0m     \u001b[0;32melse\u001b[0m\u001b[0;34m:\u001b[0m\u001b[0;34m\u001b[0m\u001b[0m\n\u001b[1;32m    270\u001b[0m         \u001b[0mindexer\u001b[0m \u001b[0;34m=\u001b[0m \u001b[0mold_indexer\u001b[0m\u001b[0;34m[\u001b[0m\u001b[0mapplied_indexer\u001b[0m\u001b[0;34m]\u001b[0m\u001b[0;34m\u001b[0m\u001b[0m\n",
      "\u001b[0;31mKeyboardInterrupt\u001b[0m: "
     ]
    },
    {
     "data": {
      "image/png": "[encoded data removed]",
      "text/plain": [
       "<matplotlib.figure.Figure at 0x117385080>"
      ]
     },
     "metadata": {},
     "output_type": "display_data"
    }
   ],
   "source": [
    "x = ferry.longitude\n",
    "y = ferry.latitude\n",
    "z = psdem_bathymetry_navd88\n",
    "\n",
    "# Plot...\n",
    "plt.scatter(x, y, c=z)\n",
    "plt.gray()"
   ]
  },
  {
   "cell_type": "code",
   "execution_count": 64,
   "metadata": {
    "collapsed": false
   },
   "outputs": [],
   "source": [
    "x = ferry.longitude[0:50000]\n",
    "y = ferry.latitude[0:50000]\n",
    "z = ferry.psdem_bathymetry_navd88[0:50000]\n",
    "\n"
   ]
  },
  {
   "cell_type": "code",
   "execution_count": 65,
   "metadata": {
    "collapsed": false
   },
   "outputs": [
    {
     "data": {
      "image/png": "[encoded data removed]",
      "text/plain": [
       "<matplotlib.figure.Figure at 0x12515fe48>"
      ]
     },
     "metadata": {},
     "output_type": "display_data"
    }
   ],
   "source": [
    "plt.scatter(x, y, c=z)\n",
    "plt.gray()"
   ]
  },
  {
   "cell_type": "code",
   "execution_count": 37,
   "metadata": {
    "collapsed": true
   },
   "outputs": [],
   "source": [
    "x = xr.DataArray([0, 1, np.nan, np.nan, 2], dims=['x'])"
   ]
  },
  {
   "cell_type": "code",
   "execution_count": 38,
   "metadata": {
    "collapsed": false
   },
   "outputs": [
    {
     "data": {
      "text/plain": [
       "<xarray.DataArray (x: 5)>\n",
       "array([False, False,  True,  True, False], dtype=bool)\n",
       "Coordinates:\n",
       "  * x        (x) int64 0 1 2 3 4"
      ]
     },
     "execution_count": 38,
     "metadata": {},
     "output_type": "execute_result"
    }
   ],
   "source": [
    "x.isnull()"
   ]
  },
  {
   "cell_type": "code",
   "execution_count": 39,
   "metadata": {
    "collapsed": false
   },
   "outputs": [
    {
     "name": "stdout",
     "output_type": "stream",
     "text": [
      "<xarray.DataArray (x: 5)>\n",
      "array([  0.,   1.,  nan,  nan,   2.])\n",
      "Coordinates:\n",
      "  * x        (x) int64 0 1 2 3 4\n"
     ]
    }
   ],
   "source": [
    "print(x)"
   ]
  },
  {
   "cell_type": "code",
   "execution_count": 40,
   "metadata": {
    "collapsed": false
   },
   "outputs": [
    {
     "data": {
      "text/plain": [
       "<xarray.DataArray (x: 3)>\n",
       "array([ 0.,  1.,  2.])\n",
       "Coordinates:\n",
       "  * x        (x) int64 0 1 4"
      ]
     },
     "execution_count": 40,
     "metadata": {},
     "output_type": "execute_result"
    }
   ],
   "source": [
    "x.dropna(dim='x')"
   ]
  },
  {
   "cell_type": "code",
   "execution_count": 44,
   "metadata": {
    "collapsed": true
   },
   "outputs": [],
   "source": [
    "y = xr.DataArray([[0, 1, np.nan, np.nan, 2],[1, 2, 3, 4, 5]], dims=['y','x'])"
   ]
  },
  {
   "cell_type": "code",
   "execution_count": 45,
   "metadata": {
    "collapsed": false
   },
   "outputs": [
    {
     "name": "stdout",
     "output_type": "stream",
     "text": [
      "<xarray.DataArray (y: 2, x: 5)>\n",
      "array([[  0.,   1.,  nan,  nan,   2.],\n",
      "       [  1.,   2.,   3.,   4.,   5.]])\n",
      "Coordinates:\n",
      "  * y        (y) int64 0 1\n",
      "  * x        (x) int64 0 1 2 3 4\n"
     ]
    }
   ],
   "source": [
    "print(y)"
   ]
  },
  {
   "cell_type": "code",
   "execution_count": 48,
   "metadata": {
    "collapsed": false
   },
   "outputs": [
    {
     "data": {
      "text/plain": [
       "<xarray.DataArray (y: 2, x: 3)>\n",
       "array([[ 0.,  1.,  2.],\n",
       "       [ 1.,  2.,  5.]])\n",
       "Coordinates:\n",
       "  * y        (y) int64 0 1\n",
       "  * x        (x) int64 0 1 4"
      ]
     },
     "execution_count": 48,
     "metadata": {},
     "output_type": "execute_result"
    }
   ],
   "source": [
    "y.dropna(dim = 'x')"
   ]
  },
  {
   "cell_type": "code",
   "execution_count": 52,
   "metadata": {
    "collapsed": false
   },
   "outputs": [
    {
     "data": {
      "text/plain": [
       "Coordinates:\n",
       "  * x        (x) <U1 'a' 'b'\n",
       "  * y        (y) int64 10 20 30"
      ]
     },
     "execution_count": 52,
     "metadata": {},
     "output_type": "execute_result"
    }
   ],
   "source": [
    "arr = xr.DataArray(np.random.randn(2, 3),[('x', ['a', 'b']), ('y', [10, 20, 30])])\n",
    "arr.coords"
   ]
  },
  {
   "cell_type": "code",
   "execution_count": 55,
   "metadata": {
    "collapsed": false
   },
   "outputs": [],
   "source": [
    "ds = xr.Dataset({'x_and_y': (('x', 'y'), np.random.randn(3, 5)),\n",
    "                 'x_only': ('x', np.random.randn(3))})"
   ]
  },
  {
   "cell_type": "code",
   "execution_count": 56,
   "metadata": {
    "collapsed": false
   },
   "outputs": [
    {
     "data": {
      "text/plain": [
       "<xarray.Dataset>\n",
       "Dimensions:  (x: 3, y: 5)\n",
       "Coordinates:\n",
       "  * x        (x) int64 0 1 2\n",
       "  * y        (y) int64 0 1 2 3 4\n",
       "Data variables:\n",
       "    x_and_y  (x, y) float64 0.1757 -0.2976 1.219 0.727 -1.026 -0.4193 -1.388 ...\n",
       "    x_only   (x) float64 1.287 1.32 -0.04688"
      ]
     },
     "execution_count": 56,
     "metadata": {},
     "output_type": "execute_result"
    }
   ],
   "source": [
    "ds"
   ]
  },
  {
   "cell_type": "code",
   "execution_count": 59,
   "metadata": {
    "collapsed": false
   },
   "outputs": [
    {
     "data": {
      "text/plain": [
       "<xarray.Dataset>\n",
       "Dimensions:  (x: 3)\n",
       "Coordinates:\n",
       "  * x        (x) int64 0 1 2\n",
       "Data variables:\n",
       "    x_and_y  (x) float64 0.1597 -0.9309 -0.05643\n",
       "    x_only   (x) float64 1.287 1.32 -0.04688"
      ]
     },
     "execution_count": 59,
     "metadata": {},
     "output_type": "execute_result"
    }
   ],
   "source": [
    "ds.mean(dim='y')"
   ]
  },
  {
   "cell_type": "markdown",
   "metadata": {},
   "source": [
    "## Learn how to manage data in the dataset"
   ]
  },
  {
   "cell_type": "code",
   "execution_count": 66,
   "metadata": {
    "collapsed": false
   },
   "outputs": [
    {
     "data": {
      "text/plain": [
       "<xarray.DataArray 'eastward_absolute_water_velocity' (time: 993110, depth: 60)>\n",
       "array([[False, False, False, ...,  True,  True,  True],\n",
       "       [False, False, False, ...,  True,  True,  True],\n",
       "       [False, False, False, ...,  True,  True,  True],\n",
       "       ..., \n",
       "       [False, False, False, ...,  True,  True,  True],\n",
       "       [False, False, False, ...,  True,  True,  True],\n",
       "       [False, False, False, ...,  True,  True,  True]], dtype=bool)\n",
       "Coordinates:\n",
       "  * depth    (depth) float32 4.05 6.05 8.05 10.05 12.05 14.05 16.05 18.05 ...\n",
       "  * time     (time) datetime64[ns] 2014-05-14T21:04:17 ..."
      ]
     },
     "execution_count": 66,
     "metadata": {},
     "output_type": "execute_result"
    }
   ],
   "source": [
    "ferry.eastward_absolute_water_velocity.isnull()"
   ]
  },
  {
   "cell_type": "code",
   "execution_count": 85,
   "metadata": {
    "collapsed": false
   },
   "outputs": [
    {
     "name": "stderr",
     "output_type": "stream",
     "text": [
      "/Users/Maru/miniconda3/lib/python3.5/site-packages/xarray/core/variable.py:1046: RuntimeWarning: invalid value encountered in less\n",
      "  if not reflexive\n"
     ]
    },
    {
     "data": {
      "text/plain": [
       "<xarray.DataArray 'eastward_absolute_water_velocity' (time: 993110, depth: 60)>\n",
       "array([[-2.44000006, -2.71799994, -2.89199996, ...,         nan,\n",
       "                nan,         nan],\n",
       "       [-3.07200003, -3.53699994, -4.08699989, ...,         nan,\n",
       "                nan,         nan],\n",
       "       [-1.63      , -2.6730001 , -3.28500009, ...,         nan,\n",
       "                nan,         nan],\n",
       "       ..., \n",
       "       [ 1.32200003,  1.30499995,  1.51499999, ...,         nan,\n",
       "                nan,         nan],\n",
       "       [ 0.97000003,  1.13399994,  1.66100001, ...,         nan,\n",
       "                nan,         nan],\n",
       "       [ 1.08000004,  0.815     ,  1.01999998, ...,         nan,\n",
       "                nan,         nan]])\n",
       "Coordinates:\n",
       "  * depth    (depth) float32 4.05 6.05 8.05 10.05 12.05 14.05 16.05 18.05 ...\n",
       "  * time     (time) datetime64[ns] 2014-05-14T21:04:17 ..."
      ]
     },
     "execution_count": 85,
     "metadata": {},
     "output_type": "execute_result"
    }
   ],
   "source": [
    "ferry.eastward_absolute_water_velocity.where(abs(ferry.eastward_absolute_water_velocity) < 6.5)"
   ]
  },
  {
   "cell_type": "code",
   "execution_count": 82,
   "metadata": {
    "collapsed": false
   },
   "outputs": [
    {
     "data": {
      "text/plain": [
       "<xarray.DataArray 'eastward_absolute_water_velocity' (time: 993110, depth: 60)>\n",
       "array([[-2.44000006, -2.71799994, -2.89199996, ...,         nan,\n",
       "                nan,         nan],\n",
       "       [-3.07200003, -3.53699994, -4.08699989, ...,         nan,\n",
       "                nan,         nan],\n",
       "       [-1.63      , -2.6730001 , -3.28500009, ...,         nan,\n",
       "                nan,         nan],\n",
       "       ..., \n",
       "       [ 1.32200003,  1.30499995,  1.51499999, ...,         nan,\n",
       "                nan,         nan],\n",
       "       [ 0.97000003,  1.13399994,  1.66100001, ...,         nan,\n",
       "                nan,         nan],\n",
       "       [ 1.08000004,  0.815     ,  1.01999998, ...,         nan,\n",
       "                nan,         nan]])\n",
       "Coordinates:\n",
       "  * depth    (depth) float32 4.05 6.05 8.05 10.05 12.05 14.05 16.05 18.05 ...\n",
       "  * time     (time) datetime64[ns] 2014-05-14T21:04:17 ..."
      ]
     },
     "execution_count": 82,
     "metadata": {},
     "output_type": "execute_result"
    }
   ],
   "source": [
    "a2"
   ]
  },
  {
   "cell_type": "code",
   "execution_count": 79,
   "metadata": {
    "collapsed": false
   },
   "outputs": [
    {
     "data": {
      "text/plain": [
       "<xarray.DataArray 'eastward_absolute_water_velocity' ()>\n",
       "array(3956)"
      ]
     },
     "execution_count": 79,
     "metadata": {},
     "output_type": "execute_result"
    }
   ],
   "source": [
    "a2.count()"
   ]
  },
  {
   "cell_type": "code",
   "execution_count": 89,
   "metadata": {
    "collapsed": false
   },
   "outputs": [
    {
     "name": "stderr",
     "output_type": "stream",
     "text": [
      "/Users/Maru/miniconda3/lib/python3.5/site-packages/xarray/core/variable.py:1046: RuntimeWarning: invalid value encountered in less\n",
      "  if not reflexive\n"
     ]
    }
   ],
   "source": [
    "TH_abs = 6.5\n",
    "TH_u = 4\n",
    "absu =  ferry.eastward_absolute_water_velocity.where((abs(ferry.eastward_absolute_water_velocity) < TH_abs) & \n",
    "                                                     (abs(ferry.northward_absolute_water_velocity) < TH_abs))"
   ]
  },
  {
   "cell_type": "code",
   "execution_count": 90,
   "metadata": {
    "collapsed": false
   },
   "outputs": [
    {
     "data": {
      "text/plain": [
       "<xarray.DataArray (time: 993110, depth: 60)>\n",
       "array([[-2.44000006, -2.71799994, -2.89199996, ...,         nan,\n",
       "                nan,         nan],\n",
       "       [-3.07200003, -3.53699994, -4.08699989, ...,         nan,\n",
       "                nan,         nan],\n",
       "       [-1.63      , -2.6730001 , -3.28500009, ...,         nan,\n",
       "                nan,         nan],\n",
       "       ..., \n",
       "       [ 1.32200003,  1.30499995,  1.51499999, ...,         nan,\n",
       "                nan,         nan],\n",
       "       [ 0.97000003,  1.13399994,  1.66100001, ...,         nan,\n",
       "                nan,         nan],\n",
       "       [ 1.08000004,  0.815     ,  1.01999998, ...,         nan,\n",
       "                nan,         nan]])\n",
       "Coordinates:\n",
       "  * depth    (depth) float32 4.05 6.05 8.05 10.05 12.05 14.05 16.05 18.05 ...\n",
       "  * time     (time) datetime64[ns] 2014-05-14T21:04:17 ..."
      ]
     },
     "execution_count": 90,
     "metadata": {},
     "output_type": "execute_result"
    }
   ],
   "source": [
    "absu"
   ]
  },
  {
   "cell_type": "markdown",
   "metadata": {},
   "source": [
    "Add the qc'd data to the data set"
   ]
  },
  {
   "cell_type": "code",
   "execution_count": 91,
   "metadata": {
    "collapsed": false
   },
   "outputs": [
    {
     "ename": "TypeError",
     "evalue": "assign() takes 1 positional argument but 2 were given",
     "output_type": "error",
     "traceback": [
      "\u001b[0;31m---------------------------------------------------------------------------\u001b[0m",
      "\u001b[0;31mTypeError\u001b[0m                                 Traceback (most recent call last)",
      "\u001b[0;32m<ipython-input-91-5479571cc69f>\u001b[0m in \u001b[0;36m<module>\u001b[0;34m()\u001b[0m\n\u001b[0;32m----> 1\u001b[0;31m \u001b[0mferry\u001b[0m\u001b[0;34m.\u001b[0m\u001b[0massign\u001b[0m\u001b[0;34m(\u001b[0m\u001b[0mabsu\u001b[0m\u001b[0;34m)\u001b[0m\u001b[0;34m\u001b[0m\u001b[0m\n\u001b[0m",
      "\u001b[0;31mTypeError\u001b[0m: assign() takes 1 positional argument but 2 were given"
     ]
    }
   ],
   "source": []
  },
  {
   "cell_type": "code",
   "execution_count": 92,
   "metadata": {
    "collapsed": false
   },
   "outputs": [
    {
     "ename": "AttributeError",
     "evalue": "cannot set attribute 'absu' on a 'Dataset' object. Use __setitem__ style assignment (e.g., `ds['name'] = ...`) instead to assign variables.",
     "output_type": "error",
     "traceback": [
      "\u001b[0;31m---------------------------------------------------------------------------\u001b[0m",
      "\u001b[0;31mAttributeError\u001b[0m                            Traceback (most recent call last)",
      "\u001b[0;32m/Users/Maru/miniconda3/lib/python3.5/site-packages/xarray/core/common.py\u001b[0m in \u001b[0;36m__setattr__\u001b[0;34m(self, name, value)\u001b[0m\n\u001b[1;32m    201\u001b[0m                 \u001b[0;31m# to avoid key lookups with attribute-style access.\u001b[0m\u001b[0;34m\u001b[0m\u001b[0;34m\u001b[0m\u001b[0m\n\u001b[0;32m--> 202\u001b[0;31m                 \u001b[0mself\u001b[0m\u001b[0;34m.\u001b[0m\u001b[0m__getattribute__\u001b[0m\u001b[0;34m(\u001b[0m\u001b[0mname\u001b[0m\u001b[0;34m)\u001b[0m\u001b[0;34m\u001b[0m\u001b[0m\n\u001b[0m\u001b[1;32m    203\u001b[0m             \u001b[0;32mexcept\u001b[0m \u001b[0mAttributeError\u001b[0m\u001b[0;34m:\u001b[0m\u001b[0;34m\u001b[0m\u001b[0m\n",
      "\u001b[0;31mAttributeError\u001b[0m: 'Dataset' object has no attribute 'absu'",
      "\nDuring handling of the above exception, another exception occurred:\n",
      "\u001b[0;31mAttributeError\u001b[0m                            Traceback (most recent call last)",
      "\u001b[0;32m<ipython-input-92-d150b4071826>\u001b[0m in \u001b[0;36m<module>\u001b[0;34m()\u001b[0m\n\u001b[0;32m----> 1\u001b[0;31m \u001b[0mferry\u001b[0m\u001b[0;34m.\u001b[0m\u001b[0mabsu\u001b[0m\u001b[0;34m=\u001b[0m\u001b[0mabsu\u001b[0m\u001b[0;34m\u001b[0m\u001b[0m\n\u001b[0m",
      "\u001b[0;32m/Users/Maru/miniconda3/lib/python3.5/site-packages/xarray/core/common.py\u001b[0m in \u001b[0;36m__setattr__\u001b[0;34m(self, name, value)\u001b[0m\n\u001b[1;32m    205\u001b[0m                     \u001b[0;34m\"cannot set attribute %r on a %r object. Use __setitem__ \"\u001b[0m\u001b[0;34m\u001b[0m\u001b[0m\n\u001b[1;32m    206\u001b[0m                     \u001b[0;34m\"style assignment (e.g., `ds['name'] = ...`) instead to \"\u001b[0m\u001b[0;34m\u001b[0m\u001b[0m\n\u001b[0;32m--> 207\u001b[0;31m                     \"assign variables.\" % (name, type(self).__name__))\n\u001b[0m\u001b[1;32m    208\u001b[0m         \u001b[0mobject\u001b[0m\u001b[0;34m.\u001b[0m\u001b[0m__setattr__\u001b[0m\u001b[0;34m(\u001b[0m\u001b[0mself\u001b[0m\u001b[0;34m,\u001b[0m \u001b[0mname\u001b[0m\u001b[0;34m,\u001b[0m \u001b[0mvalue\u001b[0m\u001b[0;34m)\u001b[0m\u001b[0;34m\u001b[0m\u001b[0m\n\u001b[1;32m    209\u001b[0m \u001b[0;34m\u001b[0m\u001b[0m\n",
      "\u001b[0;31mAttributeError\u001b[0m: cannot set attribute 'absu' on a 'Dataset' object. Use __setitem__ style assignment (e.g., `ds['name'] = ...`) instead to assign variables."
     ]
    }
   ],
   "source": []
  },
  {
   "cell_type": "code",
   "execution_count": 93,
   "metadata": {
    "collapsed": true
   },
   "outputs": [],
   "source": [
    "ferry['absu']=absu"
   ]
  },
  {
   "cell_type": "code",
   "execution_count": 95,
   "metadata": {
    "collapsed": false
   },
   "outputs": [
    {
     "name": "stderr",
     "output_type": "stream",
     "text": [
      "/Users/Maru/miniconda3/lib/python3.5/site-packages/ipykernel/__main__.py:1: FutureWarning: the Dataset property `vars` has been deprecated; use `data_vars` instead\n",
      "  if __name__ == '__main__':\n"
     ]
    },
    {
     "data": {
      "text/plain": [
       "Data variables:\n",
       "    latitude                            (time) float64 ...\n",
       "    longitude                           (time) float64 ...\n",
       "    ensemble_number                     (time) float64 ...\n",
       "    speed_made_good                     (time) float64 ...\n",
       "    direction_made_good                 (time) float64 ...\n",
       "    heading                             (time) float64 ...\n",
       "    pitch                               (time) float64 ...\n",
       "    roll                                (time) float64 ...\n",
       "    pstide_prediction_mllw              (time) float64 ...\n",
       "    psdem_bathymetry_navd88             (time) float64 ...\n",
       "    vdatum_offset_mllw_to_navd88        (time) float64 ...\n",
       "    bottom_tracking_depth_beam_1        (time) float64 ...\n",
       "    bottom_tracking_depth_beam_2        (time) float64 ...\n",
       "    bottom_tracking_depth_beam_3        (time) float64 ...\n",
       "    bottom_tracking_depth_beam_4        (time) float64 ...\n",
       "    temperature_adcp                    (time) float64 ...\n",
       "    eastward_absolute_water_velocity    (time, depth) float64 -2.44 -2.718 ...\n",
       "    northward_absolute_water_velocity   (time, depth) float64 3.05 3.473 ...\n",
       "    vertical_absolute_water_velocity    (time, depth) float64 ...\n",
       "    error_absolute_water_velocity       (time, depth) float64 ...\n",
       "    eastward_navigation_velocity        (time, depth) float64 ...\n",
       "    northward_navigation_velocity       (time, depth) float64 ...\n",
       "    eastward_bottom_tracking_velocity   (time, depth) float64 ...\n",
       "    northward_bottom_tracking_velocity  (time, depth) float64 ...\n",
       "    vertical_bottom_tracking_velocity   (time, depth) float64 ...\n",
       "    error_bottom_tracking_velocity      (time, depth) float64 ...\n",
       "    echo_amplitude_beam_1               (time, depth) float64 ...\n",
       "    echo_amplitude_beam_2               (time, depth) float64 ...\n",
       "    echo_amplitude_beam_3               (time, depth) float64 ...\n",
       "    echo_amplitude_beam_4               (time, depth) float64 ...\n",
       "    correlation_beam_1                  (time, depth) float64 ...\n",
       "    correlation_beam_2                  (time, depth) float64 ...\n",
       "    correlation_beam_3                  (time, depth) float64 ...\n",
       "    correlation_beam_4                  (time, depth) float64 ...\n",
       "    percent_good_field_1                (time, depth) float64 ...\n",
       "    percent_good_field_2                (time, depth) float64 ...\n",
       "    percent_good_field_3                (time, depth) float64 ...\n",
       "    percent_good_field_4                (time, depth) float64 ...\n",
       "    absu                                (time, depth) float64 -2.44 -2.718 ..."
      ]
     },
     "execution_count": 95,
     "metadata": {},
     "output_type": "execute_result"
    }
   ],
   "source": [
    "ferry.vars"
   ]
  },
  {
   "cell_type": "code",
   "execution_count": 106,
   "metadata": {
    "collapsed": true
   },
   "outputs": [],
   "source": [
    "ferry2 = ferry.isel(depth=slice(4, None))"
   ]
  },
  {
   "cell_type": "code",
   "execution_count": 107,
   "metadata": {
    "collapsed": false
   },
   "outputs": [
    {
     "data": {
      "text/plain": [
       "<xarray.Dataset>\n",
       "Dimensions:                             (depth: 56, time: 993110)\n",
       "Coordinates:\n",
       "  * depth                               (depth) float32 12.05 14.05 16.05 ...\n",
       "  * time                                (time) datetime64[ns] 2014-05-14T21:04:17 ...\n",
       "Data variables:\n",
       "    latitude                            (time) float64 ...\n",
       "    longitude                           (time) float64 ...\n",
       "    ensemble_number                     (time) float64 ...\n",
       "    speed_made_good                     (time) float64 ...\n",
       "    direction_made_good                 (time) float64 ...\n",
       "    heading                             (time) float64 ...\n",
       "    pitch                               (time) float64 ...\n",
       "    roll                                (time) float64 ...\n",
       "    pstide_prediction_mllw              (time) float64 ...\n",
       "    psdem_bathymetry_navd88             (time) float64 ...\n",
       "    vdatum_offset_mllw_to_navd88        (time) float64 ...\n",
       "    bottom_tracking_depth_beam_1        (time) float64 ...\n",
       "    bottom_tracking_depth_beam_2        (time) float64 ...\n",
       "    bottom_tracking_depth_beam_3        (time) float64 ...\n",
       "    bottom_tracking_depth_beam_4        (time) float64 ...\n",
       "    temperature_adcp                    (time) float64 ...\n",
       "    eastward_absolute_water_velocity    (time, depth) float64 nan nan nan ...\n",
       "    northward_absolute_water_velocity   (time, depth) float64 nan nan nan ...\n",
       "    vertical_absolute_water_velocity    (time, depth) float64 ...\n",
       "    error_absolute_water_velocity       (time, depth) float64 ...\n",
       "    eastward_navigation_velocity        (time, depth) float64 ...\n",
       "    northward_navigation_velocity       (time, depth) float64 ...\n",
       "    eastward_bottom_tracking_velocity   (time, depth) float64 ...\n",
       "    northward_bottom_tracking_velocity  (time, depth) float64 ...\n",
       "    vertical_bottom_tracking_velocity   (time, depth) float64 ...\n",
       "    error_bottom_tracking_velocity      (time, depth) float64 ...\n",
       "    echo_amplitude_beam_1               (time, depth) float64 ...\n",
       "    echo_amplitude_beam_2               (time, depth) float64 ...\n",
       "    echo_amplitude_beam_3               (time, depth) float64 ...\n",
       "    echo_amplitude_beam_4               (time, depth) float64 ...\n",
       "    correlation_beam_1                  (time, depth) float64 ...\n",
       "    correlation_beam_2                  (time, depth) float64 ...\n",
       "    correlation_beam_3                  (time, depth) float64 ...\n",
       "    correlation_beam_4                  (time, depth) float64 ...\n",
       "    percent_good_field_1                (time, depth) float64 ...\n",
       "    percent_good_field_2                (time, depth) float64 ...\n",
       "    percent_good_field_3                (time, depth) float64 ...\n",
       "    percent_good_field_4                (time, depth) float64 ...\n",
       "    absu                                (time, depth) float64 nan nan nan ...\n",
       "Attributes:\n",
       "    created: Brandon Sackmann (bsackmann@integral-corp.com)\n",
       "    company: Integral Consulting Inc.\n",
       "    Conventions: CF-1.6\n",
       "    cell_size: 2.0\n",
       "    cell_number: 60\n",
       "    blanking_distance: 2.0\n",
       "    bin_1_distance: 4.05\n",
       "    number_beams: 4\n",
       "    pulse: 1.99\n",
       "    number_pings: 5\n",
       "    total_ensemble_number: 4794\n",
       "    valid_ensemble_number: 1967\n",
       "    pstide_segment: 439\n",
       "    pstide_output_frequency: 6"
      ]
     },
     "execution_count": 107,
     "metadata": {},
     "output_type": "execute_result"
    }
   ],
   "source": [
    "ferry2"
   ]
  },
  {
   "cell_type": "code",
   "execution_count": 108,
   "metadata": {
    "collapsed": true
   },
   "outputs": [],
   "source": [
    "ferry2=ferry"
   ]
  },
  {
   "cell_type": "code",
   "execution_count": 109,
   "metadata": {
    "collapsed": false
   },
   "outputs": [
    {
     "data": {
      "text/plain": [
       "<xarray.Dataset>\n",
       "Dimensions:                             (depth: 60, time: 993110)\n",
       "Coordinates:\n",
       "  * depth                               (depth) float32 4.05 6.05 8.05 10.05 ...\n",
       "  * time                                (time) datetime64[ns] 2014-05-14T21:04:17 ...\n",
       "Data variables:\n",
       "    latitude                            (time) float64 ...\n",
       "    longitude                           (time) float64 ...\n",
       "    ensemble_number                     (time) float64 ...\n",
       "    speed_made_good                     (time) float64 ...\n",
       "    direction_made_good                 (time) float64 ...\n",
       "    heading                             (time) float64 ...\n",
       "    pitch                               (time) float64 ...\n",
       "    roll                                (time) float64 ...\n",
       "    pstide_prediction_mllw              (time) float64 ...\n",
       "    psdem_bathymetry_navd88             (time) float64 ...\n",
       "    vdatum_offset_mllw_to_navd88        (time) float64 ...\n",
       "    bottom_tracking_depth_beam_1        (time) float64 ...\n",
       "    bottom_tracking_depth_beam_2        (time) float64 ...\n",
       "    bottom_tracking_depth_beam_3        (time) float64 ...\n",
       "    bottom_tracking_depth_beam_4        (time) float64 ...\n",
       "    temperature_adcp                    (time) float64 ...\n",
       "    eastward_absolute_water_velocity    (time, depth) float64 -2.44 -2.718 ...\n",
       "    northward_absolute_water_velocity   (time, depth) float64 3.05 3.473 ...\n",
       "    vertical_absolute_water_velocity    (time, depth) float64 ...\n",
       "    error_absolute_water_velocity       (time, depth) float64 ...\n",
       "    eastward_navigation_velocity        (time, depth) float64 ...\n",
       "    northward_navigation_velocity       (time, depth) float64 ...\n",
       "    eastward_bottom_tracking_velocity   (time, depth) float64 ...\n",
       "    northward_bottom_tracking_velocity  (time, depth) float64 ...\n",
       "    vertical_bottom_tracking_velocity   (time, depth) float64 ...\n",
       "    error_bottom_tracking_velocity      (time, depth) float64 ...\n",
       "    echo_amplitude_beam_1               (time, depth) float64 ...\n",
       "    echo_amplitude_beam_2               (time, depth) float64 ...\n",
       "    echo_amplitude_beam_3               (time, depth) float64 ...\n",
       "    echo_amplitude_beam_4               (time, depth) float64 ...\n",
       "    correlation_beam_1                  (time, depth) float64 ...\n",
       "    correlation_beam_2                  (time, depth) float64 ...\n",
       "    correlation_beam_3                  (time, depth) float64 ...\n",
       "    correlation_beam_4                  (time, depth) float64 ...\n",
       "    percent_good_field_1                (time, depth) float64 ...\n",
       "    percent_good_field_2                (time, depth) float64 ...\n",
       "    percent_good_field_3                (time, depth) float64 ...\n",
       "    percent_good_field_4                (time, depth) float64 ...\n",
       "    absu                                (time, depth) float64 -2.44 -2.718 ...\n",
       "Attributes:\n",
       "    created: Brandon Sackmann (bsackmann@integral-corp.com)\n",
       "    company: Integral Consulting Inc.\n",
       "    Conventions: CF-1.6\n",
       "    cell_size: 2.0\n",
       "    cell_number: 60\n",
       "    blanking_distance: 2.0\n",
       "    bin_1_distance: 4.05\n",
       "    number_beams: 4\n",
       "    pulse: 1.99\n",
       "    number_pings: 5\n",
       "    total_ensemble_number: 4794\n",
       "    valid_ensemble_number: 1967\n",
       "    pstide_segment: 439\n",
       "    pstide_output_frequency: 6"
      ]
     },
     "execution_count": 109,
     "metadata": {},
     "output_type": "execute_result"
    }
   ],
   "source": [
    "ferry2"
   ]
  },
  {
   "cell_type": "code",
   "execution_count": 111,
   "metadata": {
    "collapsed": false
   },
   "outputs": [
    {
     "data": {
      "text/plain": [
       "<xarray.Dataset>\n",
       "Dimensions:                             (depth: 55, time: 993110)\n",
       "Coordinates:\n",
       "  * depth                               (depth) float32 14.05 16.05 18.05 ...\n",
       "  * time                                (time) datetime64[ns] 2014-05-14T21:04:17 ...\n",
       "Data variables:\n",
       "    latitude                            (time) float64 ...\n",
       "    longitude                           (time) float64 ...\n",
       "    ensemble_number                     (time) float64 ...\n",
       "    speed_made_good                     (time) float64 ...\n",
       "    direction_made_good                 (time) float64 ...\n",
       "    heading                             (time) float64 ...\n",
       "    pitch                               (time) float64 ...\n",
       "    roll                                (time) float64 ...\n",
       "    pstide_prediction_mllw              (time) float64 ...\n",
       "    psdem_bathymetry_navd88             (time) float64 ...\n",
       "    vdatum_offset_mllw_to_navd88        (time) float64 ...\n",
       "    bottom_tracking_depth_beam_1        (time) float64 ...\n",
       "    bottom_tracking_depth_beam_2        (time) float64 ...\n",
       "    bottom_tracking_depth_beam_3        (time) float64 ...\n",
       "    bottom_tracking_depth_beam_4        (time) float64 ...\n",
       "    temperature_adcp                    (time) float64 ...\n",
       "    eastward_absolute_water_velocity    (time, depth) float64 nan nan nan ...\n",
       "    northward_absolute_water_velocity   (time, depth) float64 nan nan nan ...\n",
       "    vertical_absolute_water_velocity    (time, depth) float64 ...\n",
       "    error_absolute_water_velocity       (time, depth) float64 ...\n",
       "    eastward_navigation_velocity        (time, depth) float64 ...\n",
       "    northward_navigation_velocity       (time, depth) float64 ...\n",
       "    eastward_bottom_tracking_velocity   (time, depth) float64 ...\n",
       "    northward_bottom_tracking_velocity  (time, depth) float64 ...\n",
       "    vertical_bottom_tracking_velocity   (time, depth) float64 ...\n",
       "    error_bottom_tracking_velocity      (time, depth) float64 ...\n",
       "    echo_amplitude_beam_1               (time, depth) float64 ...\n",
       "    echo_amplitude_beam_2               (time, depth) float64 ...\n",
       "    echo_amplitude_beam_3               (time, depth) float64 ...\n",
       "    echo_amplitude_beam_4               (time, depth) float64 ...\n",
       "    correlation_beam_1                  (time, depth) float64 ...\n",
       "    correlation_beam_2                  (time, depth) float64 ...\n",
       "    correlation_beam_3                  (time, depth) float64 ...\n",
       "    correlation_beam_4                  (time, depth) float64 ...\n",
       "    percent_good_field_1                (time, depth) float64 ...\n",
       "    percent_good_field_2                (time, depth) float64 ...\n",
       "    percent_good_field_3                (time, depth) float64 ...\n",
       "    percent_good_field_4                (time, depth) float64 ...\n",
       "    absu                                (time, depth) float64 nan nan nan ...\n",
       "Attributes:\n",
       "    created: Brandon Sackmann (bsackmann@integral-corp.com)\n",
       "    company: Integral Consulting Inc.\n",
       "    Conventions: CF-1.6\n",
       "    cell_size: 2.0\n",
       "    cell_number: 60\n",
       "    blanking_distance: 2.0\n",
       "    bin_1_distance: 4.05\n",
       "    number_beams: 4\n",
       "    pulse: 1.99\n",
       "    number_pings: 5\n",
       "    total_ensemble_number: 4794\n",
       "    valid_ensemble_number: 1967\n",
       "    pstide_segment: 439\n",
       "    pstide_output_frequency: 6"
      ]
     },
     "execution_count": 111,
     "metadata": {},
     "output_type": "execute_result"
    }
   ],
   "source": [
    "ferry2.isel(depth=slice(5, None))"
   ]
  },
  {
   "cell_type": "code",
   "execution_count": 113,
   "metadata": {
    "collapsed": false
   },
   "outputs": [],
   "source": [
    "ferry2 = ferry2.isel(depth = slice(4, None))"
   ]
  },
  {
   "cell_type": "code",
   "execution_count": 114,
   "metadata": {
    "collapsed": false
   },
   "outputs": [
    {
     "data": {
      "text/plain": [
       "<xarray.Dataset>\n",
       "Dimensions:                             (depth: 56, time: 993110)\n",
       "Coordinates:\n",
       "  * depth                               (depth) float32 12.05 14.05 16.05 ...\n",
       "  * time                                (time) datetime64[ns] 2014-05-14T21:04:17 ...\n",
       "Data variables:\n",
       "    latitude                            (time) float64 ...\n",
       "    longitude                           (time) float64 ...\n",
       "    ensemble_number                     (time) float64 ...\n",
       "    speed_made_good                     (time) float64 ...\n",
       "    direction_made_good                 (time) float64 ...\n",
       "    heading                             (time) float64 ...\n",
       "    pitch                               (time) float64 ...\n",
       "    roll                                (time) float64 ...\n",
       "    pstide_prediction_mllw              (time) float64 ...\n",
       "    psdem_bathymetry_navd88             (time) float64 ...\n",
       "    vdatum_offset_mllw_to_navd88        (time) float64 ...\n",
       "    bottom_tracking_depth_beam_1        (time) float64 ...\n",
       "    bottom_tracking_depth_beam_2        (time) float64 ...\n",
       "    bottom_tracking_depth_beam_3        (time) float64 ...\n",
       "    bottom_tracking_depth_beam_4        (time) float64 ...\n",
       "    temperature_adcp                    (time) float64 ...\n",
       "    eastward_absolute_water_velocity    (time, depth) float64 nan nan nan ...\n",
       "    northward_absolute_water_velocity   (time, depth) float64 nan nan nan ...\n",
       "    vertical_absolute_water_velocity    (time, depth) float64 ...\n",
       "    error_absolute_water_velocity       (time, depth) float64 ...\n",
       "    eastward_navigation_velocity        (time, depth) float64 ...\n",
       "    northward_navigation_velocity       (time, depth) float64 ...\n",
       "    eastward_bottom_tracking_velocity   (time, depth) float64 ...\n",
       "    northward_bottom_tracking_velocity  (time, depth) float64 ...\n",
       "    vertical_bottom_tracking_velocity   (time, depth) float64 ...\n",
       "    error_bottom_tracking_velocity      (time, depth) float64 ...\n",
       "    echo_amplitude_beam_1               (time, depth) float64 ...\n",
       "    echo_amplitude_beam_2               (time, depth) float64 ...\n",
       "    echo_amplitude_beam_3               (time, depth) float64 ...\n",
       "    echo_amplitude_beam_4               (time, depth) float64 ...\n",
       "    correlation_beam_1                  (time, depth) float64 ...\n",
       "    correlation_beam_2                  (time, depth) float64 ...\n",
       "    correlation_beam_3                  (time, depth) float64 ...\n",
       "    correlation_beam_4                  (time, depth) float64 ...\n",
       "    percent_good_field_1                (time, depth) float64 ...\n",
       "    percent_good_field_2                (time, depth) float64 ...\n",
       "    percent_good_field_3                (time, depth) float64 ...\n",
       "    percent_good_field_4                (time, depth) float64 ...\n",
       "    absu                                (time, depth) float64 nan nan nan ...\n",
       "Attributes:\n",
       "    created: Brandon Sackmann (bsackmann@integral-corp.com)\n",
       "    company: Integral Consulting Inc.\n",
       "    Conventions: CF-1.6\n",
       "    cell_size: 2.0\n",
       "    cell_number: 60\n",
       "    blanking_distance: 2.0\n",
       "    bin_1_distance: 4.05\n",
       "    number_beams: 4\n",
       "    pulse: 1.99\n",
       "    number_pings: 5\n",
       "    total_ensemble_number: 4794\n",
       "    valid_ensemble_number: 1967\n",
       "    pstide_segment: 439\n",
       "    pstide_output_frequency: 6"
      ]
     },
     "execution_count": 114,
     "metadata": {},
     "output_type": "execute_result"
    }
   ],
   "source": [
    "ferry2"
   ]
  },
  {
   "cell_type": "code",
   "execution_count": null,
   "metadata": {
    "collapsed": true
   },
   "outputs": [],
   "source": []
  }
 ],
 "metadata": {
  "kernelspec": {
   "display_name": "Python [default]",
   "language": "python",
   "name": "python3"
  },
  "language_info": {
   "codemirror_mode": {
    "name": "ipython",
    "version": 3
   },
   "file_extension": ".py",
   "mimetype": "text/x-python",
   "name": "python",
   "nbconvert_exporter": "python",
   "pygments_lexer": "ipython3",
   "version": "3.5.2"
  }
 },
 "nbformat": 4,
 "nbformat_minor": 1
}
