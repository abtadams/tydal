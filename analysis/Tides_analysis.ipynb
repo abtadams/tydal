{
 "cells": [
  {
   "cell_type": "markdown",
   "metadata": {},
   "source": [
    "# Notebook for initial analysis of the Tidal Data"
   ]
  },
  {
   "cell_type": "markdown",
   "metadata": {},
   "source": [
    "## From this code we can start generating useful functions"
   ]
  },
  {
   "cell_type": "code",
   "execution_count": 1,
   "metadata": {
    "collapsed": true
   },
   "outputs": [],
   "source": [
    "import numpy as np\n",
    "import pandas as pd"
   ]
  },
  {
   "cell_type": "markdown",
   "metadata": {},
   "source": [
    "## Load the tidal csv data and put into a single dataframe and create a useful datetime index"
   ]
  },
  {
   "cell_type": "code",
   "execution_count": 2,
   "metadata": {
    "collapsed": true
   },
   "outputs": [],
   "source": [
    "def load_Neah_Bay():\n",
    "    \"\"\"\n",
    "    Function to load the Neah Bay tidal station data from 2015 - 2016 \n",
    "    and returns a dataframe and a Datetime Index object\n",
    "    \"\"\"\n",
    "    NeahBay_2015 = pd.read_csv(\"../Data/2015_NeahBay.csv\",parse_dates=['Date Time'])\n",
    "    NeahBay_2016 = pd.read_csv(\"../Data/2016_NeahBay.csv\",parse_dates=['Date Time'])\n",
    "    NeahBay = NeahBay_2015.append(NeahBay_2016)\n",
    "    # Generate a datetime index\n",
    "    NeahBay_datetime = pd.DatetimeIndex(NeahBay['Date Time'])\n",
    "    return NeahBay, NeahBay_datetime   "
   ]
  },
  {
   "cell_type": "code",
   "execution_count": 3,
   "metadata": {
    "collapsed": true
   },
   "outputs": [],
   "source": [
    "def load_Port_Angeles():\n",
    "    \"\"\"\n",
    "    Function to load the Port Angeles tidal station data from 2015 - 2016 \n",
    "    and returns a dataframe and a Datetime Index object\n",
    "    \"\"\"\n",
    "    # Load the Port Angeles tidal data and put into one dataframe\n",
    "    PortAngeles_2015 = pd.read_csv('../Data/2015_PortAngeles.csv',parse_dates=['Date Time'])\n",
    "    PortAngeles_2016 = pd.read_csv('../Data/2016_PortAngeles.csv',parse_dates=['Date Time'])\n",
    "    PortAngeles = PortAngeles_2015.append(PortAngeles_2016)\n",
    "    # Generate a Datetime Index for the data\n",
    "    PortAngeles_datetime = pd.DatetimeIndex(PortAngeles['Date Time'])\n",
    "    return PortAngeles, PortAngeles_datetime"
   ]
  },
  {
   "cell_type": "code",
   "execution_count": 4,
   "metadata": {
    "collapsed": true
   },
   "outputs": [],
   "source": [
    "def load_Port_Townsend():\n",
    "    \"\"\"\n",
    "    Function to load the Port Townsend tidal station data from 2015 - 2016 \n",
    "    and returns a dataframe and a Datetime Index object\n",
    "    \"\"\"\n",
    "    PortTownsend_2015 = pd.read_csv('../Data/2015_PortTownsend.csv',parse_dates=['Date Time'])\n",
    "    PortTownsend_2016 = pd.read_csv('../Data/2016_PortTownsend.csv',parse_dates=['Date Time'])\n",
    "    PortTownsend = PortTownsend_2015.append(PortTownsend_2016)\n",
    "    # Generate a Datetime Index\n",
    "    PortTownsend_datetime = pd.DatetimeIndex(PortTownsend['Date Time'])\n",
    "    return PortTownsend, PortTownsend_datetime"
   ]
  },
  {
   "cell_type": "code",
   "execution_count": null,
   "metadata": {
    "collapsed": true
   },
   "outputs": [],
   "source": [
    "def load_tide_data():\n",
    "    NeahBay, NeahBay_datetime = load_Neah_Bay()\n",
    "    PortAngeles, PortAngeles_datetime = load_Port_Angeles()\n",
    "    PortTownsend, PortTownsend_datetime = load_Port_Townsend()\n",
    "    return NeahBay, NeahBay_datetime, PortAngeles, PortAngeles_datetime, PortTownsend, PortTownsend_datetime\n",
    "    "
   ]
  },
  {
   "cell_type": "code",
   "execution_count": 8,
   "metadata": {
    "collapsed": false
   },
   "outputs": [],
   "source": [
    "# Try taking the difference in the water level between the different stations\n",
    "dif_Neah_Angeles = NeahBay[' Water Level'] - PortAngeles[' Water Level']"
   ]
  },
  {
   "cell_type": "code",
   "execution_count": 9,
   "metadata": {
    "collapsed": false
   },
   "outputs": [
    {
     "data": {
      "text/plain": [
       "0       -0.985\n",
       "0       -4.306\n",
       "0        4.845\n",
       "0        1.524\n",
       "1       -0.837\n",
       "1       -4.243\n",
       "1        4.970\n",
       "1        1.564\n",
       "2       -0.690\n",
       "2       -4.230\n",
       "2        5.097\n",
       "2        1.557\n",
       "3       -0.519\n",
       "3       -4.213\n",
       "3        5.216\n",
       "3        1.522\n",
       "4       -0.349\n",
       "4       -4.164\n",
       "4        5.317\n",
       "4        1.502\n",
       "5       -0.237\n",
       "5       -4.118\n",
       "5        5.406\n",
       "5        1.525\n",
       "6       -0.162\n",
       "6       -4.119\n",
       "6        5.501\n",
       "6        1.544\n",
       "7       -0.028\n",
       "7       -4.109\n",
       "         ...  \n",
       "87570   -0.296\n",
       "87571   -0.221\n",
       "87572   -0.066\n",
       "87573    0.048\n",
       "87574    0.100\n",
       "87575    0.140\n",
       "87576    0.297\n",
       "87577    0.435\n",
       "87578    0.491\n",
       "87579    0.550\n",
       "87580    0.668\n",
       "87581    0.819\n",
       "87582    0.894\n",
       "87583    0.957\n",
       "87584    1.055\n",
       "87585    1.124\n",
       "87586    1.134\n",
       "87587    1.157\n",
       "87588    1.219\n",
       "87589    1.292\n",
       "87590    1.312\n",
       "87591    1.298\n",
       "87592    1.377\n",
       "87593    1.453\n",
       "87594    1.459\n",
       "87595    1.439\n",
       "87596    1.456\n",
       "87597    1.548\n",
       "87598    1.573\n",
       "87599    1.528\n",
       "Name:  Water Level, dtype: float64"
      ]
     },
     "execution_count": 9,
     "metadata": {},
     "output_type": "execute_result"
    }
   ],
   "source": [
    "dif_Neah_Angeles"
   ]
  },
  {
   "cell_type": "code",
   "execution_count": null,
   "metadata": {
    "collapsed": true
   },
   "outputs": [],
   "source": []
  },
  {
   "cell_type": "code",
   "execution_count": 5,
   "metadata": {
    "collapsed": true
   },
   "outputs": [],
   "source": [
    "NeahBay, NeahBay_datetime = load_Neah_Bay()\n",
    "PortAngeles, PortAngeles_datetime = load_Port_Angeles()\n",
    "PortTownsend, PortTownsend_datetime = load_Port_Townsend()"
   ]
  },
  {
   "cell_type": "markdown",
   "metadata": {},
   "source": [
    "### Just do some plotting to make sure the data looks reasonable"
   ]
  },
  {
   "cell_type": "code",
   "execution_count": null,
   "metadata": {
    "collapsed": true
   },
   "outputs": [],
   "source": [
    "%matplotlib inline"
   ]
  },
  {
   "cell_type": "code",
   "execution_count": null,
   "metadata": {
    "collapsed": false
   },
   "outputs": [],
   "source": [
    "# Plot the daily mean of the tides data from Neah Bay stations\n",
    "NeahBay[' Water Level'].groupby(NeahBay_datetime.date).mean().plot().grid()"
   ]
  },
  {
   "cell_type": "code",
   "execution_count": null,
   "metadata": {
    "collapsed": false
   },
   "outputs": [],
   "source": [
    "# Plot the daily mean of the tides data from Port Angeles stations\n",
    "PortAngeles[' Water Level'].groupby(PortAngeles_datetime.date).mean().plot().grid()"
   ]
  },
  {
   "cell_type": "code",
   "execution_count": null,
   "metadata": {
    "collapsed": false
   },
   "outputs": [],
   "source": [
    "# Plot the daily mean of the tides data from Port Townsend stations\n",
    "PortTownsend[' Water Level'].groupby(PortTownsend_datetime.date).mean().plot().grid()"
   ]
  },
  {
   "cell_type": "code",
   "execution_count": null,
   "metadata": {
    "collapsed": true
   },
   "outputs": [],
   "source": []
  }
 ],
 "metadata": {
  "anaconda-cloud": {},
  "kernelspec": {
   "display_name": "Python [conda root]",
   "language": "python",
   "name": "conda-root-py"
  },
  "language_info": {
   "codemirror_mode": {
    "name": "ipython",
    "version": 3
   },
   "file_extension": ".py",
   "mimetype": "text/x-python",
   "name": "python",
   "nbconvert_exporter": "python",
   "pygments_lexer": "ipython3",
   "version": "3.5.2"
  }
 },
 "nbformat": 4,
 "nbformat_minor": 1
}
