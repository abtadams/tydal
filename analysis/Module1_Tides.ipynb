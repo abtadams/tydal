{
 "cells": [
  {
   "cell_type": "markdown",
   "metadata": {},
   "source": [
    "# Tides\n",
    "## What causes tides?\n",
    "### Tides are the result of the gravitational pull of the moon on the Earth's water."
   ]
  },
  {
   "cell_type": "markdown",
   "metadata": {
    "collapsed": true
   },
   "source": [
    "I am thinking one plot of a single day of tides accompanied by four images of earth/moon.  There will be one dot on each (red, green, blue, yellow) at first High, first Low, second High, second Low.  Corresponding to the time at which those tides occur. (I will draw the pictures in Illustrator)."
   ]
  },
  {
   "cell_type": "markdown",
   "metadata": {},
   "source": [
    "Next, I see a description of how the phase of the moon affects the tides (Spring/Neap)\n",
    "This will be accompanied by pictures showing the Earth/Moon/Sun in the correct arrangment for each (Four images again, new moon, first quarter, full mooon, third quarter)\n",
    "There will be two Spring tide days (set of full moon and new moon dates are in the data folder) and two neap tide days (also in data folder)."
   ]
  },
  {
   "cell_type": "markdown",
   "metadata": {},
   "source": [
    "All of this can just use data from one station."
   ]
  },
  {
   "cell_type": "markdown",
   "metadata": {},
   "source": [
    "Then we should pull in all three stations and (still working out exactly how I want to show this) show how the water level compares between the three across a day. (This is to show the ebb and flow of the tides into the sound, steep positive slope to flat to steep negative slope and back)."
   ]
  },
  {
   "cell_type": "markdown",
   "metadata": {},
   "source": [
    "We may want to pick a full month of data to plot to show how the range of the tides changes throughout the month (from new moon to new moon)."
   ]
  },
  {
   "cell_type": "code",
   "execution_count": null,
   "metadata": {
    "collapsed": true
   },
   "outputs": [],
   "source": []
  }
 ],
 "metadata": {
  "anaconda-cloud": {},
  "kernelspec": {
   "display_name": "Python [default]",
   "language": "python",
   "name": "python3"
  },
  "language_info": {
   "codemirror_mode": {
    "name": "ipython",
    "version": 3
   },
   "file_extension": ".py",
   "mimetype": "text/x-python",
   "name": "python",
   "nbconvert_exporter": "python",
   "pygments_lexer": "ipython3",
   "version": "3.5.2"
  }
 },
 "nbformat": 4,
 "nbformat_minor": 1
}
